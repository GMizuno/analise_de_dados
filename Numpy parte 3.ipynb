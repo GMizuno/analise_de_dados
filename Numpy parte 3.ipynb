{
 "cells": [
  {
   "cell_type": "markdown",
   "metadata": {},
   "source": [
    "<h2>Álgebra Linear e Numpy</h2>"
   ]
  },
  {
   "cell_type": "code",
   "execution_count": 1,
   "metadata": {},
   "outputs": [],
   "source": [
    "import numpy as np"
   ]
  },
  {
   "cell_type": "code",
   "execution_count": 2,
   "metadata": {},
   "outputs": [
    {
     "name": "stdout",
     "output_type": "stream",
     "text": [
      "(3, 3) (3, 3) (3, 1)\n"
     ]
    }
   ],
   "source": [
    "matrix1 = np.array([[1, 2, 3], [3, 4, 5], [1, 5, 6]])\n",
    "matrix2 = np.array([[10, 20, 30], [70, 80, 90], [100, 110, 120]])\n",
    "matrix3 = np.array([[10, 20, 30]]).T\n",
    "print(np.shape(matrix1), np.shape(matrix2), np.shape(matrix3))"
   ]
  },
  {
   "cell_type": "markdown",
   "metadata": {},
   "source": [
    "Autovalores e Autovetores"
   ]
  },
  {
   "cell_type": "code",
   "execution_count": 3,
   "metadata": {},
   "outputs": [
    {
     "data": {
      "text/plain": [
       "(array([11.04914663+0.j        , -0.02457332+0.73649475j,\n",
       "        -0.02457332-0.73649475j]),\n",
       " array([[ 0.33423975+0.j        ,  0.00237542+0.39976169j,\n",
       "          0.00237542-0.39976169j],\n",
       "        [ 0.63575943+0.j        ,  0.70544826+0.j        ,\n",
       "          0.70544826-0.j        ],\n",
       "        [ 0.69576845+0.j        , -0.5692509 -0.13594523j,\n",
       "         -0.5692509 +0.13594523j]]))"
      ]
     },
     "execution_count": 3,
     "metadata": {},
     "output_type": "execute_result"
    }
   ],
   "source": [
    "np.linalg.eig(matrix1) # Autovetores"
   ]
  },
  {
   "cell_type": "code",
   "execution_count": 4,
   "metadata": {},
   "outputs": [
    {
     "data": {
      "text/plain": [
       "array([11.04914663+0.j        , -0.02457332+0.73649475j,\n",
       "       -0.02457332-0.73649475j])"
      ]
     },
     "execution_count": 4,
     "metadata": {},
     "output_type": "execute_result"
    }
   ],
   "source": [
    "np.linalg.eigvals(matrix1) # Autovalores"
   ]
  },
  {
   "cell_type": "markdown",
   "metadata": {},
   "source": [
    "Inversa, sistemas lineares e determinante"
   ]
  },
  {
   "cell_type": "code",
   "execution_count": 5,
   "metadata": {},
   "outputs": [
    {
     "data": {
      "text/plain": [
       "6.0"
      ]
     },
     "execution_count": 5,
     "metadata": {},
     "output_type": "execute_result"
    }
   ],
   "source": [
    "np.linalg.det(matrix1)"
   ]
  },
  {
   "cell_type": "code",
   "execution_count": 6,
   "metadata": {},
   "outputs": [
    {
     "data": {
      "text/plain": [
       "array([[-0.16666667,  0.5       , -0.33333333],\n",
       "       [-2.16666667,  0.5       ,  0.66666667],\n",
       "       [ 1.83333333, -0.5       , -0.33333333]])"
      ]
     },
     "execution_count": 6,
     "metadata": {},
     "output_type": "execute_result"
    }
   ],
   "source": [
    "np.linalg.inv(matrix1)"
   ]
  },
  {
   "cell_type": "code",
   "execution_count": 7,
   "metadata": {},
   "outputs": [
    {
     "data": {
      "text/plain": [
       "array([[-0.17,  0.5 , -0.33],\n",
       "       [-2.17,  0.5 ,  0.67],\n",
       "       [ 1.83, -0.5 , -0.33]])"
      ]
     },
     "execution_count": 7,
     "metadata": {},
     "output_type": "execute_result"
    }
   ],
   "source": [
    "np.linalg.inv(matrix1).round(2)"
   ]
  },
  {
   "cell_type": "code",
   "execution_count": 8,
   "metadata": {},
   "outputs": [
    {
     "data": {
      "text/plain": [
       "array([[-1.66666667],\n",
       "       [ 8.33333333],\n",
       "       [-1.66666667]])"
      ]
     },
     "execution_count": 8,
     "metadata": {},
     "output_type": "execute_result"
    }
   ],
   "source": [
    "np.linalg.solve(matrix1, matrix3)"
   ]
  },
  {
   "cell_type": "markdown",
   "metadata": {},
   "source": [
    "Minimos Quadrados"
   ]
  },
  {
   "cell_type": "code",
   "execution_count": 9,
   "metadata": {},
   "outputs": [],
   "source": [
    "Conc_subst = [1.00,3.70,1.00,9.00,2.00,2.25,2.91,2.75,3.00,3.50,3.75,\n",
    "            9.45,4.25,7.00,4.75,5.00,5.50,6.00,6.50,7.00,7.50,8.00,8.25,9.40,9.43,8.94,9.20,9.50,8.00,9.00] # X\n",
    "Ganho_peso = [9.40,11.40,12.00,16.00,11.00,12.50,10.40,11.50,12.50,\n",
    "            14.00,14.50,17.00,13.25,14.80,14.00,14.10,12.50,15.20,\n",
    "            14.20,16.50,17.00,14.50,16.00,17.00,14.90,15.00,19.00,17.50,16.00,17.50] # Y\n",
    "tamanho = len(Ganho_peso)"
   ]
  },
  {
   "cell_type": "code",
   "execution_count": 10,
   "metadata": {},
   "outputs": [
    {
     "data": {
      "text/plain": [
       "array([[1.  , 1.  ],\n",
       "       [3.7 , 1.  ],\n",
       "       [1.  , 1.  ],\n",
       "       [9.  , 1.  ],\n",
       "       [2.  , 1.  ],\n",
       "       [2.25, 1.  ]])"
      ]
     },
     "execution_count": 10,
     "metadata": {},
     "output_type": "execute_result"
    }
   ],
   "source": [
    "A = np.vstack([Conc_subst, np.ones(tamanho)]).T\n",
    "A[:6]"
   ]
  },
  {
   "cell_type": "code",
   "execution_count": 25,
   "metadata": {},
   "outputs": [
    {
     "data": {
      "text/plain": [
       "(10.039702965614607,\n",
       " 0.7320391541235942,\n",
       " array([10.77174212, 12.74824784, 10.77174212, 16.62805535, 11.50378127,\n",
       "        11.68679106, 12.1699369 , 12.05281064, 12.23582043, 12.60184001,\n",
       "        12.78484979, 16.95747297, 13.15086937, 15.16397704, 13.51688895,\n",
       "        13.69989874, 14.06591831, 14.43193789, 14.79795747, 15.16397704,\n",
       "        15.52999662, 15.8960162 , 16.07902599, 16.92087101, 16.94283219,\n",
       "        16.584133  , 16.77446318, 16.99407493, 15.8960162 , 16.62805535]))"
      ]
     },
     "execution_count": 25,
     "metadata": {},
     "output_type": "execute_result"
    }
   ],
   "source": [
    "b1, b0 = np.linalg.lstsq(A, Ganho_peso, rcond = None)[0]\n",
    "x, ychapeu = np.array(Conc_subst), b1*np.array(Conc_subst) + b0\n",
    "b0, b1, ychapeu"
   ]
  },
  {
   "cell_type": "code",
   "execution_count": 28,
   "metadata": {},
   "outputs": [
    {
     "data": {
      "image/png": "[encoded data removed]",
      "text/plain": [
       "<Figure size 432x288 with 1 Axes>"
      ]
     },
     "metadata": {
      "needs_background": "light"
     },
     "output_type": "display_data"
    }
   ],
   "source": [
    "import matplotlib.pyplot as plt\n",
    "%matplotlib inline\n",
    "\n",
    "fig = plt.figure()\n",
    "axes = fig.add_axes([.5, .1, .8, .8])\n",
    "axes.plot(Conc_subst, Ganho_peso, 'o', label = 'Original')\n",
    "axes.plot(x, ychapeu , 'r', label = 'Estimado')\n",
    "axes.legend()\n",
    "\n",
    "plt.show() "
   ]
  },
  {
   "cell_type": "code",
   "execution_count": null,
   "metadata": {},
   "outputs": [],
   "source": []
  }
 ],
 "metadata": {
  "kernelspec": {
   "display_name": "Python 3",
   "language": "python",
   "name": "python3"
  },
  "language_info": {
   "codemirror_mode": {
    "name": "ipython",
    "version": 3
   },
   "file_extension": ".py",
   "mimetype": "text/x-python",
   "name": "python",
   "nbconvert_exporter": "python",
   "pygments_lexer": "ipython3",
   "version": "3.8.0"
  }
 },
 "nbformat": 4,
 "nbformat_minor": 2
}
