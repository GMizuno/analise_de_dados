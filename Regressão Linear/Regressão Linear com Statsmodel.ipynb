{
 "cells": [
  {
   "cell_type": "markdown",
   "metadata": {},
   "source": [
    "<h1>Regressão Linear Simples</h1>"
   ]
  },
  {
   "cell_type": "code",
   "execution_count": 1,
   "metadata": {},
   "outputs": [],
   "source": [
    "import numpy as np\n",
    "import pandas as pd\n",
    "import statsmodels.api as sm\n",
    "import matplotlib.pyplot as plt\n",
    "import seaborn as sns\n",
    "from scipy import stats\n",
    "%matplotlib inline"
   ]
  },
  {
   "cell_type": "markdown",
   "metadata": {},
   "source": [
    "Criando Base de Dados"
   ]
  },
  {
   "cell_type": "code",
   "execution_count": 2,
   "metadata": {},
   "outputs": [
    {
     "data": {
      "text/html": [
       "<div>\n",
       "<style scoped>\n",
       "    .dataframe tbody tr th:only-of-type {\n",
       "        vertical-align: middle;\n",
       "    }\n",
       "\n",
       "    .dataframe tbody tr th {\n",
       "        vertical-align: top;\n",
       "    }\n",
       "\n",
       "    .dataframe thead th {\n",
       "        text-align: right;\n",
       "    }\n",
       "</style>\n",
       "<table border=\"1\" class=\"dataframe\">\n",
       "  <thead>\n",
       "    <tr style=\"text-align: right;\">\n",
       "      <th></th>\n",
       "      <th>x</th>\n",
       "      <th>y</th>\n",
       "    </tr>\n",
       "  </thead>\n",
       "  <tbody>\n",
       "    <tr>\n",
       "      <th>0</th>\n",
       "      <td>45</td>\n",
       "      <td>52</td>\n",
       "    </tr>\n",
       "    <tr>\n",
       "      <th>1</th>\n",
       "      <td>55</td>\n",
       "      <td>54</td>\n",
       "    </tr>\n",
       "    <tr>\n",
       "      <th>2</th>\n",
       "      <td>55</td>\n",
       "      <td>63</td>\n",
       "    </tr>\n",
       "    <tr>\n",
       "      <th>3</th>\n",
       "      <td>55</td>\n",
       "      <td>60</td>\n",
       "    </tr>\n",
       "    <tr>\n",
       "      <th>4</th>\n",
       "      <td>55</td>\n",
       "      <td>62</td>\n",
       "    </tr>\n",
       "  </tbody>\n",
       "</table>\n",
       "</div>"
      ],
      "text/plain": [
       "    x   y\n",
       "0  45  52\n",
       "1  55  54\n",
       "2  55  63\n",
       "3  55  60\n",
       "4  55  62"
      ]
     },
     "execution_count": 2,
     "metadata": {},
     "output_type": "execute_result"
    }
   ],
   "source": [
    "data = np.array([[45,55,55,55,55,65,65,65,65,65,65,75,75,75,75,75,75,85,85,85,85,85,85,95,95,95,95],\n",
    "                 [52,54,63,60,62,57,72,77,80,61,75,62,77,91,71,89,70,89,93,97,74,80,66,94,97,83,95]]).T\n",
    "data = pd.DataFrame(data = data, columns = ['x', 'y'] )\n",
    "data.head()"
   ]
  },
  {
   "cell_type": "markdown",
   "metadata": {},
   "source": [
    "Plotando grafico de dispressão"
   ]
  },
  {
   "cell_type": "code",
   "execution_count": 3,
   "metadata": {},
   "outputs": [
    {
     "data": {
      "text/plain": [
       "Text(0.5, 1.0, 'Grafico de Dispressão entre X e Y')"
      ]
     },
     "execution_count": 3,
     "metadata": {},
     "output_type": "execute_result"
    },
    {
     "data": {
      "image/png": "[encoded data removed]",
      "text/plain": [
       "<Figure size 1080x576 with 1 Axes>"
      ]
     },
     "metadata": {
      "needs_background": "light"
     },
     "output_type": "display_data"
    }
   ],
   "source": [
    "plt.figure(figsize=(15,8))\n",
    "fig = sns.scatterplot(x = 'x', y = 'y', data = data, s = 100)\n",
    "fig.set_xlabel('Eixo x')\n",
    "fig.set_ylabel('Eixo y')\n",
    "fig.set_title('Grafico de Dispressão entre X e Y')"
   ]
  },
  {
   "cell_type": "markdown",
   "metadata": {},
   "source": [
    "Estimando Betas"
   ]
  },
  {
   "cell_type": "code",
   "execution_count": 4,
   "metadata": {},
   "outputs": [
    {
     "name": "stderr",
     "output_type": "stream",
     "text": [
      "/Library/Frameworks/Python.framework/Versions/3.7/lib/python3.7/site-packages/numpy/core/fromnumeric.py:2389: FutureWarning: Method .ptp is deprecated and will be removed in a future version. Use numpy.ptp instead.\n",
      "  return ptp(axis=axis, out=out, **kwargs)\n"
     ]
    },
    {
     "data": {
      "text/plain": [
       "statsmodels.regression.linear_model.OLS"
      ]
     },
     "execution_count": 4,
     "metadata": {},
     "output_type": "execute_result"
    }
   ],
   "source": [
    "X = sm.add_constant(data['x'])\n",
    "modelo = sm.OLS(data['y'], X)\n",
    "type(modelo)"
   ]
  },
  {
   "cell_type": "code",
   "execution_count": 5,
   "metadata": {},
   "outputs": [
    {
     "data": {
      "text/plain": [
       "statsmodels.regression.linear_model.RegressionResultsWrapper"
      ]
     },
     "execution_count": 5,
     "metadata": {},
     "output_type": "execute_result"
    }
   ],
   "source": [
    "estimativas = modelo.fit()\n",
    "type(estimativas)"
   ]
  },
  {
   "cell_type": "markdown",
   "metadata": {},
   "source": [
    "Vamos focar em alguns desse parametros. Sendo estes:\n",
    "* summary() -> Retorna um resumo com varias estatiscas e informações uteis.\n",
    "* params ->\n",
    "* rsquared ->\n",
    "* rsquared_adj\n",
    "* pvalues -> Retorna os pvalores do teste T.\n",
    "* predict -> Retorna os valores de Y chapeu\n",
    "* tvalues\n",
    "* summary2 -> Retorna um summary() mas com algumas pequenas diferenças."
   ]
  },
  {
   "cell_type": "code",
   "execution_count": 6,
   "metadata": {},
   "outputs": [
    {
     "name": "stdout",
     "output_type": "stream",
     "text": [
      "                            OLS Regression Results                            \n",
      "==============================================================================\n",
      "Dep. Variable:                      y   R-squared:                       0.614\n",
      "Model:                            OLS   Adj. R-squared:                  0.599\n",
      "Method:                 Least Squares   F-statistic:                     39.76\n",
      "Date:                Sat, 27 Jul 2019   Prob (F-statistic):           1.34e-06\n",
      "Time:                        12:48:54   Log-Likelihood:                -96.330\n",
      "No. Observations:                  27   AIC:                             196.7\n",
      "Df Residuals:                      25   BIC:                             199.3\n",
      "Df Model:                           1                                         \n",
      "Covariance Type:            nonrobust                                         \n",
      "==============================================================================\n",
      "                 coef    std err          t      P>|t|      [0.025      0.975]\n",
      "------------------------------------------------------------------------------\n",
      "const         18.3833      9.234      1.991      0.058      -0.634      37.400\n",
      "x              0.7743      0.123      6.305      0.000       0.521       1.027\n",
      "==============================================================================\n",
      "Omnibus:                        0.936   Durbin-Watson:                   2.378\n",
      "Prob(Omnibus):                  0.626   Jarque-Bera (JB):                0.850\n",
      "Skew:                          -0.194   Prob(JB):                        0.654\n",
      "Kurtosis:                       2.223   Cond. No.                         405.\n",
      "==============================================================================\n",
      "\n",
      "Warnings:\n",
      "[1] Standard Errors assume that the covariance matrix of the errors is correctly specified.\n"
     ]
    }
   ],
   "source": [
    "print(estimativas.summary())"
   ]
  },
  {
   "cell_type": "code",
   "execution_count": 7,
   "metadata": {},
   "outputs": [
    {
     "data": {
      "text/plain": [
       "const    18.383263\n",
       "x         0.774262\n",
       "dtype: float64"
      ]
     },
     "execution_count": 7,
     "metadata": {},
     "output_type": "execute_result"
    }
   ],
   "source": [
    "estimativas.params"
   ]
  },
  {
   "cell_type": "code",
   "execution_count": 8,
   "metadata": {},
   "outputs": [
    {
     "data": {
      "text/plain": [
       "0.613953406110607"
      ]
     },
     "execution_count": 8,
     "metadata": {},
     "output_type": "execute_result"
    }
   ],
   "source": [
    "estimativas.rsquared"
   ]
  },
  {
   "cell_type": "code",
   "execution_count": 9,
   "metadata": {},
   "outputs": [
    {
     "data": {
      "text/plain": [
       "0.5985115423550313"
      ]
     },
     "execution_count": 9,
     "metadata": {},
     "output_type": "execute_result"
    }
   ],
   "source": [
    "estimativas.rsquared_adj"
   ]
  },
  {
   "cell_type": "code",
   "execution_count": 10,
   "metadata": {
    "scrolled": true
   },
   "outputs": [
    {
     "data": {
      "text/plain": [
       "const    0.057528\n",
       "x        0.000001\n",
       "dtype: float64"
      ]
     },
     "execution_count": 10,
     "metadata": {},
     "output_type": "execute_result"
    }
   ],
   "source": [
    "estimativas.pvalues"
   ]
  },
  {
   "cell_type": "code",
   "execution_count": 11,
   "metadata": {
    "scrolled": true
   },
   "outputs": [
    {
     "data": {
      "text/plain": [
       "0    53.225035\n",
       "1    60.967651\n",
       "2    60.967651\n",
       "3    60.967651\n",
       "4    60.967651\n",
       "dtype: float64"
      ]
     },
     "execution_count": 11,
     "metadata": {},
     "output_type": "execute_result"
    }
   ],
   "source": [
    "estimativas.predict(X).head()"
   ]
  },
  {
   "cell_type": "code",
   "execution_count": 12,
   "metadata": {},
   "outputs": [
    {
     "data": {
      "text/plain": [
       "const    1.990905\n",
       "x        6.305476\n",
       "dtype: float64"
      ]
     },
     "execution_count": 12,
     "metadata": {},
     "output_type": "execute_result"
    }
   ],
   "source": [
    "estimativas.tvalues"
   ]
  },
  {
   "cell_type": "code",
   "execution_count": 13,
   "metadata": {
    "scrolled": true
   },
   "outputs": [
    {
     "name": "stdout",
     "output_type": "stream",
     "text": [
      "                 Results: Ordinary least squares\n",
      "=================================================================\n",
      "Model:              OLS              Adj. R-squared:     0.599   \n",
      "Dependent Variable: y                AIC:                196.6596\n",
      "Date:               2019-07-27 12:48 BIC:                199.2513\n",
      "No. Observations:   27               Log-Likelihood:     -96.330 \n",
      "Df Model:           1                F-statistic:        39.76   \n",
      "Df Residuals:       25               Prob (F-statistic): 1.34e-06\n",
      "R-squared:          0.614            Scale:              79.410  \n",
      "-------------------------------------------------------------------\n",
      "            Coef.    Std.Err.     t      P>|t|     [0.025    0.975]\n",
      "-------------------------------------------------------------------\n",
      "const      18.3833     9.2336   1.9909   0.0575   -0.6337   37.4003\n",
      "x           0.7743     0.1228   6.3055   0.0000    0.5214    1.0272\n",
      "-----------------------------------------------------------------\n",
      "Omnibus:               0.936        Durbin-Watson:          2.378\n",
      "Prob(Omnibus):         0.626        Jarque-Bera (JB):       0.850\n",
      "Skew:                  -0.194       Prob(JB):               0.654\n",
      "Kurtosis:              2.223        Condition No.:          405  \n",
      "=================================================================\n",
      "\n"
     ]
    }
   ],
   "source": [
    "print(estimativas.summary2())"
   ]
  },
  {
   "cell_type": "code",
   "execution_count": 14,
   "metadata": {},
   "outputs": [
    {
     "data": {
      "text/plain": [
       "(35, 90)"
      ]
     },
     "execution_count": 14,
     "metadata": {},
     "output_type": "execute_result"
    },
    {
     "data": {
      "image/png": "[encoded data removed]",
      "text/plain": [
       "<Figure size 1080x576 with 1 Axes>"
      ]
     },
     "metadata": {
      "needs_background": "light"
     },
     "output_type": "display_data"
    }
   ],
   "source": [
    "data['Ychapeu'] = estimativas.predict(X)\n",
    "fig, axes = plt.subplots(figsize=(15,8))\n",
    "sns.scatterplot(x = 'x', y = 'y', data = data, s = 100)\n",
    "sns.lineplot(x = 'x', y = 'Ychapeu', data = data, color = 'red')\n",
    "axes.set_xlabel('Eixo x')\n",
    "axes.set_ylabel('Eixo y')\n",
    "axes.set_title('Grafico de Dispressão entre X e Y')\n",
    "axes.set_xlim(35, 90)"
   ]
  },
  {
   "cell_type": "markdown",
   "metadata": {},
   "source": [
    "<h2>Analisando os Residuos</h2>"
   ]
  },
  {
   "cell_type": "code",
   "execution_count": 15,
   "metadata": {},
   "outputs": [
    {
     "data": {
      "text/plain": [
       "0   -1.225035\n",
       "1   -6.967651\n",
       "2    2.032349\n",
       "3   -0.967651\n",
       "4    1.032349\n",
       "dtype: float64"
      ]
     },
     "execution_count": 15,
     "metadata": {},
     "output_type": "execute_result"
    }
   ],
   "source": [
    "estimativas.resid.head() # Residuos burtos"
   ]
  },
  {
   "cell_type": "code",
   "execution_count": 16,
   "metadata": {},
   "outputs": [
    {
     "data": {
      "text/plain": [
       "Text(0.5, 1.0, 'Grafico de Dispressão entre x e residuos')"
      ]
     },
     "execution_count": 16,
     "metadata": {},
     "output_type": "execute_result"
    },
    {
     "data": {
      "image/png": "[encoded data removed]",
      "text/plain": [
       "<Figure size 1080x576 with 1 Axes>"
      ]
     },
     "metadata": {
      "needs_background": "light"
     },
     "output_type": "display_data"
    }
   ],
   "source": [
    "fig, axes = plt.subplots(figsize=(15,8))\n",
    "sns.scatterplot(x = data['x'], y = estimativas.resid, s = 100)\n",
    "axes.set_xlabel('Eixo x')\n",
    "axes.set_ylabel('Residuos')\n",
    "axes.set_title('Grafico de Dispressão entre x e residuos')"
   ]
  },
  {
   "cell_type": "markdown",
   "metadata": {},
   "source": [
    "**Obtendo as SQres, SQreg e SQtot.**\n",
    "\n",
    "O metodo anova = sm.stats.anova_lm(estimativas, type=2) seria uma alternativa mas não sera possivel usar por algum erro do pacote. Para usarmos temos q fazer algumas alterações"
   ]
  },
  {
   "cell_type": "code",
   "execution_count": 17,
   "metadata": {},
   "outputs": [
    {
     "name": "stdout",
     "output_type": "stream",
     "text": [
      "MQres = 79.41007032348806, MQresg = 3157.266760431317 e MQtot = 197.7891737891738\n"
     ]
    }
   ],
   "source": [
    "MQres = estimativas.mse_resid\n",
    "MQtot = estimativas.mse_total\n",
    "MQreg = estimativas.mse_model\n",
    "print(f'MQres = {MQres}, MQresg = {MQreg} e MQtot = {MQtot}')"
   ]
  },
  {
   "cell_type": "code",
   "execution_count": 18,
   "metadata": {},
   "outputs": [],
   "source": [
    "ei_student = estimativas.get_influence().resid_studentized_internal"
   ]
  },
  {
   "cell_type": "markdown",
   "metadata": {},
   "source": [
    "O metodo .get_influence() tbm é usado para obter a distancia de Cook."
   ]
  },
  {
   "cell_type": "code",
   "execution_count": 19,
   "metadata": {},
   "outputs": [
    {
     "data": {
      "text/plain": [
       "39.75902234527369"
      ]
     },
     "execution_count": 19,
     "metadata": {},
     "output_type": "execute_result"
    }
   ],
   "source": [
    "estimativas.fvalue"
   ]
  },
  {
   "cell_type": "code",
   "execution_count": 20,
   "metadata": {},
   "outputs": [
    {
     "data": {
      "text/plain": [
       "1.3425675488832532e-06"
      ]
     },
     "execution_count": 20,
     "metadata": {},
     "output_type": "execute_result"
    }
   ],
   "source": [
    "estimativas.f_pvalue"
   ]
  },
  {
   "cell_type": "markdown",
   "metadata": {},
   "source": [
    "<h2>Normalidade</h2>"
   ]
  },
  {
   "cell_type": "code",
   "execution_count": 21,
   "metadata": {},
   "outputs": [
    {
     "data": {
      "image/png": "[encoded data removed]",
      "text/plain": [
       "<Figure size 432x288 with 1 Axes>"
      ]
     },
     "execution_count": 21,
     "metadata": {},
     "output_type": "execute_result"
    },
    {
     "data": {
      "image/png": "[encoded data removed]",
      "text/plain": [
       "<Figure size 432x288 with 1 Axes>"
      ]
     },
     "metadata": {
      "needs_background": "light"
     },
     "output_type": "display_data"
    }
   ],
   "source": [
    "sm.qqplot(ei_student)"
   ]
  },
  {
   "cell_type": "code",
   "execution_count": 22,
   "metadata": {},
   "outputs": [
    {
     "data": {
      "text/plain": [
       "(0.9770492911338806, 0.7905247211456299)"
      ]
     },
     "execution_count": 22,
     "metadata": {},
     "output_type": "execute_result"
    }
   ],
   "source": [
    "stats.shapiro(ei_student)"
   ]
  },
  {
   "cell_type": "markdown",
   "metadata": {},
   "source": [
    "Tem como retorno a estatistica de teste e pvalor, nesta ordem."
   ]
  },
  {
   "cell_type": "markdown",
   "metadata": {},
   "source": [
    "<h2>Usando outro modulo</h2>\n",
    "\n",
    "Nesse outro método vamos achar as mesma coisas, porem neste método temos uma forma mais rapida de fazer ANOVA"
   ]
  },
  {
   "cell_type": "code",
   "execution_count": 23,
   "metadata": {},
   "outputs": [],
   "source": [
    "import numpy as np\n",
    "import pandas as pd\n",
    "import matplotlib.pyplot as plt\n",
    "import seaborn as sns\n",
    "import statsmodels.api as sm\n",
    "import statsmodels.formula.api as smf # Esta é a diferença.\n",
    "from scipy import stats\n",
    "%matplotlib inline"
   ]
  },
  {
   "cell_type": "code",
   "execution_count": 24,
   "metadata": {},
   "outputs": [
    {
     "data": {
      "text/html": [
       "<div>\n",
       "<style scoped>\n",
       "    .dataframe tbody tr th:only-of-type {\n",
       "        vertical-align: middle;\n",
       "    }\n",
       "\n",
       "    .dataframe tbody tr th {\n",
       "        vertical-align: top;\n",
       "    }\n",
       "\n",
       "    .dataframe thead th {\n",
       "        text-align: right;\n",
       "    }\n",
       "</style>\n",
       "<table border=\"1\" class=\"dataframe\">\n",
       "  <thead>\n",
       "    <tr style=\"text-align: right;\">\n",
       "      <th></th>\n",
       "      <th>x</th>\n",
       "      <th>y</th>\n",
       "    </tr>\n",
       "  </thead>\n",
       "  <tbody>\n",
       "    <tr>\n",
       "      <th>0</th>\n",
       "      <td>45</td>\n",
       "      <td>52</td>\n",
       "    </tr>\n",
       "    <tr>\n",
       "      <th>1</th>\n",
       "      <td>55</td>\n",
       "      <td>54</td>\n",
       "    </tr>\n",
       "    <tr>\n",
       "      <th>2</th>\n",
       "      <td>55</td>\n",
       "      <td>63</td>\n",
       "    </tr>\n",
       "    <tr>\n",
       "      <th>3</th>\n",
       "      <td>55</td>\n",
       "      <td>60</td>\n",
       "    </tr>\n",
       "    <tr>\n",
       "      <th>4</th>\n",
       "      <td>55</td>\n",
       "      <td>62</td>\n",
       "    </tr>\n",
       "  </tbody>\n",
       "</table>\n",
       "</div>"
      ],
      "text/plain": [
       "    x   y\n",
       "0  45  52\n",
       "1  55  54\n",
       "2  55  63\n",
       "3  55  60\n",
       "4  55  62"
      ]
     },
     "execution_count": 24,
     "metadata": {},
     "output_type": "execute_result"
    }
   ],
   "source": [
    "data = np.array([[45,55,55,55,55,65,65,65,65,65,65,75,75,75,75,75,75,85,85,85,85,85,85,95,95,95,95],\n",
    "                 [52,54,63,60,62,57,72,77,80,61,75,62,77,91,71,89,70,89,93,97,74,80,66,94,97,83,95]]).T\n",
    "data = pd.DataFrame(data = data, columns = ['x', 'y'] )\n",
    "data.head()"
   ]
  },
  {
   "cell_type": "code",
   "execution_count": 25,
   "metadata": {},
   "outputs": [],
   "source": [
    "modelo2 = smf.ols('y ~ x', data = data)"
   ]
  },
  {
   "cell_type": "code",
   "execution_count": 26,
   "metadata": {},
   "outputs": [],
   "source": [
    "estimativas2 = modelo2.fit()"
   ]
  },
  {
   "cell_type": "code",
   "execution_count": 27,
   "metadata": {},
   "outputs": [
    {
     "name": "stdout",
     "output_type": "stream",
     "text": [
      "                            OLS Regression Results                            \n",
      "==============================================================================\n",
      "Dep. Variable:                      y   R-squared:                       0.614\n",
      "Model:                            OLS   Adj. R-squared:                  0.599\n",
      "Method:                 Least Squares   F-statistic:                     39.76\n",
      "Date:                Sat, 27 Jul 2019   Prob (F-statistic):           1.34e-06\n",
      "Time:                        12:48:56   Log-Likelihood:                -96.330\n",
      "No. Observations:                  27   AIC:                             196.7\n",
      "Df Residuals:                      25   BIC:                             199.3\n",
      "Df Model:                           1                                         \n",
      "Covariance Type:            nonrobust                                         \n",
      "==============================================================================\n",
      "                 coef    std err          t      P>|t|      [0.025      0.975]\n",
      "------------------------------------------------------------------------------\n",
      "Intercept     18.3833      9.234      1.991      0.058      -0.634      37.400\n",
      "x              0.7743      0.123      6.305      0.000       0.521       1.027\n",
      "==============================================================================\n",
      "Omnibus:                        0.936   Durbin-Watson:                   2.378\n",
      "Prob(Omnibus):                  0.626   Jarque-Bera (JB):                0.850\n",
      "Skew:                          -0.194   Prob(JB):                        0.654\n",
      "Kurtosis:                       2.223   Cond. No.                         405.\n",
      "==============================================================================\n",
      "\n",
      "Warnings:\n",
      "[1] Standard Errors assume that the covariance matrix of the errors is correctly specified.\n"
     ]
    }
   ],
   "source": [
    "print(estimativas2.summary())"
   ]
  },
  {
   "cell_type": "code",
   "execution_count": 28,
   "metadata": {},
   "outputs": [
    {
     "data": {
      "text/html": [
       "<div>\n",
       "<style scoped>\n",
       "    .dataframe tbody tr th:only-of-type {\n",
       "        vertical-align: middle;\n",
       "    }\n",
       "\n",
       "    .dataframe tbody tr th {\n",
       "        vertical-align: top;\n",
       "    }\n",
       "\n",
       "    .dataframe thead th {\n",
       "        text-align: right;\n",
       "    }\n",
       "</style>\n",
       "<table border=\"1\" class=\"dataframe\">\n",
       "  <thead>\n",
       "    <tr style=\"text-align: right;\">\n",
       "      <th></th>\n",
       "      <th>df</th>\n",
       "      <th>sum_sq</th>\n",
       "      <th>mean_sq</th>\n",
       "      <th>F</th>\n",
       "      <th>PR(&gt;F)</th>\n",
       "    </tr>\n",
       "  </thead>\n",
       "  <tbody>\n",
       "    <tr>\n",
       "      <th>x</th>\n",
       "      <td>1.0</td>\n",
       "      <td>3157.266760</td>\n",
       "      <td>3157.26676</td>\n",
       "      <td>39.759022</td>\n",
       "      <td>0.000001</td>\n",
       "    </tr>\n",
       "    <tr>\n",
       "      <th>Residual</th>\n",
       "      <td>25.0</td>\n",
       "      <td>1985.251758</td>\n",
       "      <td>79.41007</td>\n",
       "      <td>NaN</td>\n",
       "      <td>NaN</td>\n",
       "    </tr>\n",
       "  </tbody>\n",
       "</table>\n",
       "</div>"
      ],
      "text/plain": [
       "            df       sum_sq     mean_sq          F    PR(>F)\n",
       "x          1.0  3157.266760  3157.26676  39.759022  0.000001\n",
       "Residual  25.0  1985.251758    79.41007        NaN       NaN"
      ]
     },
     "execution_count": 28,
     "metadata": {},
     "output_type": "execute_result"
    }
   ],
   "source": [
    "sm.stats.anova_lm(estimativas2, typ=1) # typ modifica a forma como o é mostrado as saida"
   ]
  },
  {
   "cell_type": "code",
   "execution_count": 29,
   "metadata": {},
   "outputs": [
    {
     "data": {
      "text/plain": [
       "Intercept    18.383263\n",
       "x             0.774262\n",
       "dtype: float64"
      ]
     },
     "execution_count": 29,
     "metadata": {},
     "output_type": "execute_result"
    }
   ],
   "source": [
    "estimativas2.params"
   ]
  },
  {
   "cell_type": "code",
   "execution_count": 30,
   "metadata": {},
   "outputs": [
    {
     "data": {
      "text/plain": [
       "0.613953406110607"
      ]
     },
     "execution_count": 30,
     "metadata": {},
     "output_type": "execute_result"
    }
   ],
   "source": [
    "estimativas2.rsquared"
   ]
  },
  {
   "cell_type": "code",
   "execution_count": 31,
   "metadata": {},
   "outputs": [
    {
     "data": {
      "text/plain": [
       "0.5985115423550313"
      ]
     },
     "execution_count": 31,
     "metadata": {},
     "output_type": "execute_result"
    }
   ],
   "source": [
    "estimativas2.rsquared_adj"
   ]
  },
  {
   "cell_type": "code",
   "execution_count": 32,
   "metadata": {},
   "outputs": [
    {
     "data": {
      "text/plain": [
       "Intercept    0.057528\n",
       "x            0.000001\n",
       "dtype: float64"
      ]
     },
     "execution_count": 32,
     "metadata": {},
     "output_type": "execute_result"
    }
   ],
   "source": [
    "estimativas2.pvalues"
   ]
  },
  {
   "cell_type": "code",
   "execution_count": 33,
   "metadata": {},
   "outputs": [
    {
     "data": {
      "text/plain": [
       "Intercept    1.990905\n",
       "x            6.305476\n",
       "dtype: float64"
      ]
     },
     "execution_count": 33,
     "metadata": {},
     "output_type": "execute_result"
    }
   ],
   "source": [
    "estimativas2.tvalues"
   ]
  },
  {
   "cell_type": "code",
   "execution_count": 34,
   "metadata": {},
   "outputs": [
    {
     "data": {
      "text/plain": [
       "0   -1.225035\n",
       "1   -6.967651\n",
       "2    2.032349\n",
       "3   -0.967651\n",
       "4    1.032349\n",
       "dtype: float64"
      ]
     },
     "execution_count": 34,
     "metadata": {},
     "output_type": "execute_result"
    }
   ],
   "source": [
    "estimativas2.resid.head()"
   ]
  },
  {
   "cell_type": "code",
   "execution_count": 35,
   "metadata": {},
   "outputs": [
    {
     "data": {
      "text/plain": [
       "39.75902234527369"
      ]
     },
     "execution_count": 35,
     "metadata": {},
     "output_type": "execute_result"
    }
   ],
   "source": [
    "estimativas2.fvalue"
   ]
  },
  {
   "cell_type": "code",
   "execution_count": 36,
   "metadata": {},
   "outputs": [
    {
     "data": {
      "text/plain": [
       "1.3425675488832532e-06"
      ]
     },
     "execution_count": 36,
     "metadata": {},
     "output_type": "execute_result"
    }
   ],
   "source": [
    "estimativas.f_pvalue"
   ]
  },
  {
   "cell_type": "markdown",
   "metadata": {},
   "source": [
    "<h2>Analisando os Residuos</h2>"
   ]
  },
  {
   "cell_type": "code",
   "execution_count": 37,
   "metadata": {},
   "outputs": [
    {
     "name": "stdout",
     "output_type": "stream",
     "text": [
      "MQres = 79.41007032348806, MQresg = 3157.266760431317 e MQtot = 197.7891737891738\n"
     ]
    }
   ],
   "source": [
    "MQres = estimativas2.mse_resid\n",
    "MQtot = estimativas2.mse_total\n",
    "MQreg = estimativas2.mse_model\n",
    "print(f'MQres = {MQres}, MQresg = {MQreg} e MQtot = {MQtot}')"
   ]
  },
  {
   "cell_type": "code",
   "execution_count": 38,
   "metadata": {},
   "outputs": [],
   "source": [
    "ei_estudent2 = estimativas2.get_influence().resid_studentized_internal"
   ]
  },
  {
   "cell_type": "markdown",
   "metadata": {},
   "source": [
    "O metodo .get_influence() tbm é usado para obter a distancia de Cook."
   ]
  },
  {
   "cell_type": "code",
   "execution_count": 39,
   "metadata": {},
   "outputs": [
    {
     "data": {
      "text/plain": [
       "39.75902234527369"
      ]
     },
     "execution_count": 39,
     "metadata": {},
     "output_type": "execute_result"
    }
   ],
   "source": [
    "estimativas2.fvalue"
   ]
  },
  {
   "cell_type": "code",
   "execution_count": 40,
   "metadata": {},
   "outputs": [
    {
     "data": {
      "text/plain": [
       "1.3425675488832532e-06"
      ]
     },
     "execution_count": 40,
     "metadata": {},
     "output_type": "execute_result"
    }
   ],
   "source": [
    "estimativas2.f_pvalue"
   ]
  },
  {
   "cell_type": "markdown",
   "metadata": {},
   "source": [
    "<h2>Normalidade</h2>"
   ]
  },
  {
   "cell_type": "code",
   "execution_count": 41,
   "metadata": {},
   "outputs": [
    {
     "data": {
      "image/png": "[encoded data removed]",
      "text/plain": [
       "<Figure size 432x288 with 1 Axes>"
      ]
     },
     "execution_count": 41,
     "metadata": {},
     "output_type": "execute_result"
    },
    {
     "data": {
      "image/png": "[encoded data removed]",
      "text/plain": [
       "<Figure size 432x288 with 1 Axes>"
      ]
     },
     "metadata": {
      "needs_background": "light"
     },
     "output_type": "display_data"
    }
   ],
   "source": [
    "sm.qqplot(estimativas2.resid)"
   ]
  },
  {
   "cell_type": "code",
   "execution_count": 42,
   "metadata": {},
   "outputs": [
    {
     "data": {
      "text/plain": [
       "(0.9770492911338806, 0.7905247211456299)"
      ]
     },
     "execution_count": 42,
     "metadata": {},
     "output_type": "execute_result"
    }
   ],
   "source": [
    "stats.shapiro(ei_estudent2)"
   ]
  },
  {
   "cell_type": "markdown",
   "metadata": {},
   "source": [
    "<h1>Regressão Linear Multipla</h1>"
   ]
  },
  {
   "cell_type": "code",
   "execution_count": 43,
   "metadata": {},
   "outputs": [],
   "source": [
    "import numpy as np\n",
    "import pandas as pd\n",
    "import matplotlib.pyplot as plt\n",
    "import seaborn as sns\n",
    "import statsmodels.api as sm\n",
    "import statsmodels.formula.api as smf # Esta é a diferença."
   ]
  },
  {
   "cell_type": "markdown",
   "metadata": {},
   "source": [
    "Preparando base de dados, para a analise. Esse primeira base será usada, somente, para avaliar **MULTICOLINEARIDADE** e mostrar os comandos basicos.\n",
    "\n",
    "<h3>Comandos Basicos</h3>"
   ]
  },
  {
   "cell_type": "code",
   "execution_count": 44,
   "metadata": {},
   "outputs": [],
   "source": [
    "data = np.array([[17,6,13,11,23,16,15,5,10,12,20,12,8,8], \n",
    "        [35.7,11.4,28.6,25.8,50.6,27.2,31.3,10.0,18.9,25.2,39.9,32.5,13.6,19.0], \n",
    "        [52.1,24.6,49.2,30.0,82.2,42.4,55.7,21.1,27.7,36.3,69.1,38.8,22.8,34.7]]).T\n",
    "data = pd.DataFrame(data = data, columns = ['npublic', 'tempexp', 'desemp'] )"
   ]
  },
  {
   "cell_type": "code",
   "execution_count": 45,
   "metadata": {},
   "outputs": [
    {
     "data": {
      "text/html": [
       "<div>\n",
       "<style scoped>\n",
       "    .dataframe tbody tr th:only-of-type {\n",
       "        vertical-align: middle;\n",
       "    }\n",
       "\n",
       "    .dataframe tbody tr th {\n",
       "        vertical-align: top;\n",
       "    }\n",
       "\n",
       "    .dataframe thead th {\n",
       "        text-align: right;\n",
       "    }\n",
       "</style>\n",
       "<table border=\"1\" class=\"dataframe\">\n",
       "  <thead>\n",
       "    <tr style=\"text-align: right;\">\n",
       "      <th></th>\n",
       "      <th>npublic</th>\n",
       "      <th>tempexp</th>\n",
       "      <th>desemp</th>\n",
       "    </tr>\n",
       "  </thead>\n",
       "  <tbody>\n",
       "    <tr>\n",
       "      <th>0</th>\n",
       "      <td>17.0</td>\n",
       "      <td>35.7</td>\n",
       "      <td>52.1</td>\n",
       "    </tr>\n",
       "    <tr>\n",
       "      <th>1</th>\n",
       "      <td>6.0</td>\n",
       "      <td>11.4</td>\n",
       "      <td>24.6</td>\n",
       "    </tr>\n",
       "    <tr>\n",
       "      <th>2</th>\n",
       "      <td>13.0</td>\n",
       "      <td>28.6</td>\n",
       "      <td>49.2</td>\n",
       "    </tr>\n",
       "    <tr>\n",
       "      <th>3</th>\n",
       "      <td>11.0</td>\n",
       "      <td>25.8</td>\n",
       "      <td>30.0</td>\n",
       "    </tr>\n",
       "    <tr>\n",
       "      <th>4</th>\n",
       "      <td>23.0</td>\n",
       "      <td>50.6</td>\n",
       "      <td>82.2</td>\n",
       "    </tr>\n",
       "  </tbody>\n",
       "</table>\n",
       "</div>"
      ],
      "text/plain": [
       "   npublic  tempexp  desemp\n",
       "0     17.0     35.7    52.1\n",
       "1      6.0     11.4    24.6\n",
       "2     13.0     28.6    49.2\n",
       "3     11.0     25.8    30.0\n",
       "4     23.0     50.6    82.2"
      ]
     },
     "execution_count": 45,
     "metadata": {},
     "output_type": "execute_result"
    }
   ],
   "source": [
    "data.head()"
   ]
  },
  {
   "cell_type": "code",
   "execution_count": 46,
   "metadata": {},
   "outputs": [],
   "source": [
    "modelo = smf.ols('desemp~npublic+tempexp', data = data)"
   ]
  },
  {
   "cell_type": "code",
   "execution_count": 47,
   "metadata": {},
   "outputs": [
    {
     "name": "stdout",
     "output_type": "stream",
     "text": [
      "                            OLS Regression Results                            \n",
      "==============================================================================\n",
      "Dep. Variable:                 desemp   R-squared:                       0.908\n",
      "Model:                            OLS   Adj. R-squared:                  0.891\n",
      "Method:                 Least Squares   F-statistic:                     54.07\n",
      "Date:                Sat, 27 Jul 2019   Prob (F-statistic):           2.04e-06\n",
      "Time:                        12:48:57   Log-Likelihood:                -43.189\n",
      "No. Observations:                  14   AIC:                             92.38\n",
      "Df Residuals:                      11   BIC:                             94.30\n",
      "Df Model:                           2                                         \n",
      "Covariance Type:            nonrobust                                         \n",
      "==============================================================================\n",
      "                 coef    std err          t      P>|t|      [0.025      0.975]\n",
      "------------------------------------------------------------------------------\n",
      "Intercept      0.7259      4.298      0.169      0.869      -8.735      10.187\n",
      "npublic        1.8440      1.127      1.635      0.130      -0.638       4.326\n",
      "tempexp        0.6816      0.515      1.323      0.213      -0.453       1.816\n",
      "==============================================================================\n",
      "Omnibus:                        7.751   Durbin-Watson:                   2.697\n",
      "Prob(Omnibus):                  0.021   Jarque-Bera (JB):                1.682\n",
      "Skew:                          -0.185   Prob(JB):                        0.431\n",
      "Kurtosis:                       1.343   Cond. No.                         85.4\n",
      "==============================================================================\n",
      "\n",
      "Warnings:\n",
      "[1] Standard Errors assume that the covariance matrix of the errors is correctly specified.\n"
     ]
    },
    {
     "name": "stderr",
     "output_type": "stream",
     "text": [
      "/Library/Frameworks/Python.framework/Versions/3.7/lib/python3.7/site-packages/scipy/stats/stats.py:1450: UserWarning: kurtosistest only valid for n>=20 ... continuing anyway, n=14\n",
      "  \"anyway, n=%i\" % int(n))\n"
     ]
    }
   ],
   "source": [
    "estimativas3 = modelo.fit()\n",
    "print(estimativas3.summary())"
   ]
  },
  {
   "cell_type": "code",
   "execution_count": 48,
   "metadata": {},
   "outputs": [
    {
     "data": {
      "text/plain": [
       "array([-0.77234356,  0.9466858 ,  0.8768086 , -1.5460663 ,  1.00460098,\n",
       "       -1.38984664,  1.04923922,  0.8312377 , -0.77804346, -0.64892176,\n",
       "        0.83726855, -1.42664738, -0.36653532,  1.15068795])"
      ]
     },
     "execution_count": 48,
     "metadata": {},
     "output_type": "execute_result"
    }
   ],
   "source": [
    "ei_estudent3 = estimativas3.get_influence().resid_studentized_internal\n",
    "ei_estudent3"
   ]
  },
  {
   "cell_type": "code",
   "execution_count": 49,
   "metadata": {},
   "outputs": [
    {
     "data": {
      "text/html": [
       "<div>\n",
       "<style scoped>\n",
       "    .dataframe tbody tr th:only-of-type {\n",
       "        vertical-align: middle;\n",
       "    }\n",
       "\n",
       "    .dataframe tbody tr th {\n",
       "        vertical-align: top;\n",
       "    }\n",
       "\n",
       "    .dataframe thead th {\n",
       "        text-align: right;\n",
       "    }\n",
       "</style>\n",
       "<table border=\"1\" class=\"dataframe\">\n",
       "  <thead>\n",
       "    <tr style=\"text-align: right;\">\n",
       "      <th></th>\n",
       "      <th>df</th>\n",
       "      <th>sum_sq</th>\n",
       "      <th>mean_sq</th>\n",
       "      <th>F</th>\n",
       "      <th>PR(&gt;F)</th>\n",
       "    </tr>\n",
       "  </thead>\n",
       "  <tbody>\n",
       "    <tr>\n",
       "      <th>npublic</th>\n",
       "      <td>1.0</td>\n",
       "      <td>3790.508396</td>\n",
       "      <td>3790.508396</td>\n",
       "      <td>106.390526</td>\n",
       "      <td>5.420407e-07</td>\n",
       "    </tr>\n",
       "    <tr>\n",
       "      <th>tempexp</th>\n",
       "      <td>1.0</td>\n",
       "      <td>62.330125</td>\n",
       "      <td>62.330125</td>\n",
       "      <td>1.749458</td>\n",
       "      <td>2.127840e-01</td>\n",
       "    </tr>\n",
       "    <tr>\n",
       "      <th>Residual</th>\n",
       "      <td>11.0</td>\n",
       "      <td>391.910764</td>\n",
       "      <td>35.628251</td>\n",
       "      <td>NaN</td>\n",
       "      <td>NaN</td>\n",
       "    </tr>\n",
       "  </tbody>\n",
       "</table>\n",
       "</div>"
      ],
      "text/plain": [
       "            df       sum_sq      mean_sq           F        PR(>F)\n",
       "npublic    1.0  3790.508396  3790.508396  106.390526  5.420407e-07\n",
       "tempexp    1.0    62.330125    62.330125    1.749458  2.127840e-01\n",
       "Residual  11.0   391.910764    35.628251         NaN           NaN"
      ]
     },
     "execution_count": 49,
     "metadata": {},
     "output_type": "execute_result"
    }
   ],
   "source": [
    "sm.stats.anova_lm(estimativas3, typ=1) # Igual ao R, ou seja, usa soma dos quadros extras"
   ]
  },
  {
   "cell_type": "code",
   "execution_count": 50,
   "metadata": {},
   "outputs": [
    {
     "data": {
      "text/html": [
       "<div>\n",
       "<style scoped>\n",
       "    .dataframe tbody tr th:only-of-type {\n",
       "        vertical-align: middle;\n",
       "    }\n",
       "\n",
       "    .dataframe tbody tr th {\n",
       "        vertical-align: top;\n",
       "    }\n",
       "\n",
       "    .dataframe thead th {\n",
       "        text-align: right;\n",
       "    }\n",
       "</style>\n",
       "<table border=\"1\" class=\"dataframe\">\n",
       "  <thead>\n",
       "    <tr style=\"text-align: right;\">\n",
       "      <th></th>\n",
       "      <th>sum_sq</th>\n",
       "      <th>df</th>\n",
       "      <th>F</th>\n",
       "      <th>PR(&gt;F)</th>\n",
       "    </tr>\n",
       "  </thead>\n",
       "  <tbody>\n",
       "    <tr>\n",
       "      <th>npublic</th>\n",
       "      <td>95.294412</td>\n",
       "      <td>1.0</td>\n",
       "      <td>2.674687</td>\n",
       "      <td>0.130220</td>\n",
       "    </tr>\n",
       "    <tr>\n",
       "      <th>tempexp</th>\n",
       "      <td>62.330125</td>\n",
       "      <td>1.0</td>\n",
       "      <td>1.749458</td>\n",
       "      <td>0.212784</td>\n",
       "    </tr>\n",
       "    <tr>\n",
       "      <th>Residual</th>\n",
       "      <td>391.910764</td>\n",
       "      <td>11.0</td>\n",
       "      <td>NaN</td>\n",
       "      <td>NaN</td>\n",
       "    </tr>\n",
       "  </tbody>\n",
       "</table>\n",
       "</div>"
      ],
      "text/plain": [
       "              sum_sq    df         F    PR(>F)\n",
       "npublic    95.294412   1.0  2.674687  0.130220\n",
       "tempexp    62.330125   1.0  1.749458  0.212784\n",
       "Residual  391.910764  11.0       NaN       NaN"
      ]
     },
     "execution_count": 50,
     "metadata": {},
     "output_type": "execute_result"
    }
   ],
   "source": [
    "sm.stats.anova_lm(estimativas3, typ=2) "
   ]
  },
  {
   "cell_type": "code",
   "execution_count": 51,
   "metadata": {},
   "outputs": [
    {
     "name": "stdout",
     "output_type": "stream",
     "text": [
      "MQres = 35.62825128100213, MQreg = 1926.4192608116318 e MQtot = 326.51917582417593\n"
     ]
    }
   ],
   "source": [
    "MQres = estimativas3.mse_resid\n",
    "MQtot = estimativas3.mse_total\n",
    "MQreg = estimativas3.mse_model\n",
    "print(f'MQres = {MQres}, MQreg = {MQreg} e MQtot = {MQtot}')"
   ]
  },
  {
   "cell_type": "code",
   "execution_count": 52,
   "metadata": {},
   "outputs": [
    {
     "data": {
      "image/png": "[encoded data removed]",
      "text/plain": [
       "<Figure size 432x288 with 1 Axes>"
      ]
     },
     "execution_count": 52,
     "metadata": {},
     "output_type": "execute_result"
    },
    {
     "data": {
      "image/png": "[encoded data removed]",
      "text/plain": [
       "<Figure size 432x288 with 1 Axes>"
      ]
     },
     "metadata": {
      "needs_background": "light"
     },
     "output_type": "display_data"
    }
   ],
   "source": [
    "sm.qqplot(estimativas3.resid)"
   ]
  },
  {
   "cell_type": "code",
   "execution_count": 53,
   "metadata": {},
   "outputs": [
    {
     "data": {
      "text/plain": [
       "(0.8287656903266907, 0.011580933816730976)"
      ]
     },
     "execution_count": 53,
     "metadata": {},
     "output_type": "execute_result"
    }
   ],
   "source": [
    "stats.shapiro(ei_estudent3)"
   ]
  },
  {
   "cell_type": "markdown",
   "metadata": {},
   "source": [
    "<h3>Multicolinearidade</h3>\n",
    "\n",
    "**Importando pacote para fazer vif**"
   ]
  },
  {
   "cell_type": "code",
   "execution_count": 54,
   "metadata": {},
   "outputs": [
    {
     "data": {
      "text/plain": [
       "array([[1.        , 0.95953171, 0.9449802 ],\n",
       "       [0.95953171, 1.        , 0.9408622 ],\n",
       "       [0.9449802 , 0.9408622 , 1.        ]])"
      ]
     },
     "execution_count": 54,
     "metadata": {},
     "output_type": "execute_result"
    }
   ],
   "source": [
    "np.corrcoef([data.iloc[:,0], data.iloc[:,1], data.iloc[:,2]]) # Matriz de correlação."
   ]
  },
  {
   "cell_type": "code",
   "execution_count": 55,
   "metadata": {},
   "outputs": [
    {
     "data": {
      "text/plain": [
       "[12.610515486461152, 12.610515486461134]"
      ]
     },
     "execution_count": 55,
     "metadata": {},
     "output_type": "execute_result"
    }
   ],
   "source": [
    "data = pd.DataFrame(data = data, columns = ['npublic', 'tempexp', 'desemp'] ) # So estou colocando para quando rodar no dar erro\n",
    "from statsmodels.stats.outliers_influence import variance_inflation_factor\n",
    "del data['desemp']\n",
    "X = data.assign(const=1)\n",
    "vif = [variance_inflation_factor(X.values, i) for i in range(X.shape[1])]\n",
    "del vif[-1]\n",
    "vif\n",
    "data = pd.DataFrame(data = data, columns = ['npublic', 'tempexp', 'desemp'] )\n",
    "# Colocando de volta y.\n",
    "vif"
   ]
  },
  {
   "cell_type": "markdown",
   "metadata": {},
   "source": [
    "<h3>Heterocedasticidade</h3>"
   ]
  },
  {
   "cell_type": "code",
   "execution_count": 56,
   "metadata": {},
   "outputs": [
    {
     "data": {
      "text/html": [
       "<div>\n",
       "<style scoped>\n",
       "    .dataframe tbody tr th:only-of-type {\n",
       "        vertical-align: middle;\n",
       "    }\n",
       "\n",
       "    .dataframe tbody tr th {\n",
       "        vertical-align: top;\n",
       "    }\n",
       "\n",
       "    .dataframe thead th {\n",
       "        text-align: right;\n",
       "    }\n",
       "</style>\n",
       "<table border=\"1\" class=\"dataframe\">\n",
       "  <thead>\n",
       "    <tr style=\"text-align: right;\">\n",
       "      <th></th>\n",
       "      <th>ntrab_X</th>\n",
       "      <th>nsuperv_Y</th>\n",
       "    </tr>\n",
       "  </thead>\n",
       "  <tbody>\n",
       "    <tr>\n",
       "      <th>0</th>\n",
       "      <td>294</td>\n",
       "      <td>30</td>\n",
       "    </tr>\n",
       "    <tr>\n",
       "      <th>1</th>\n",
       "      <td>247</td>\n",
       "      <td>32</td>\n",
       "    </tr>\n",
       "    <tr>\n",
       "      <th>2</th>\n",
       "      <td>267</td>\n",
       "      <td>37</td>\n",
       "    </tr>\n",
       "    <tr>\n",
       "      <th>3</th>\n",
       "      <td>358</td>\n",
       "      <td>44</td>\n",
       "    </tr>\n",
       "    <tr>\n",
       "      <th>4</th>\n",
       "      <td>423</td>\n",
       "      <td>47</td>\n",
       "    </tr>\n",
       "  </tbody>\n",
       "</table>\n",
       "</div>"
      ],
      "text/plain": [
       "   ntrab_X  nsuperv_Y\n",
       "0      294         30\n",
       "1      247         32\n",
       "2      267         37\n",
       "3      358         44\n",
       "4      423         47"
      ]
     },
     "execution_count": 56,
     "metadata": {},
     "output_type": "execute_result"
    }
   ],
   "source": [
    "data = np.array([[294,247,267,358,423,311,450,534,438,697,688,630,709,627,615,999,1022,\n",
    "          1015,700,850,980,1025,1021,1200,1250,1500,1650], \n",
    "         [30,32,37,44,47,49,56,62,68,78,80,84,88,97,100,109,114,117,106,128,\n",
    "            130,160,97,180,112,210,135]]).T\n",
    "data = pd.DataFrame(data = data, columns = ['ntrab_X', 'nsuperv_Y'] )\n",
    "modelo = smf.ols('nsuperv_Y~ntrab_X', data = data)\n",
    "estimativas = modelo.fit()\n",
    "data.head()"
   ]
  },
  {
   "cell_type": "markdown",
   "metadata": {},
   "source": [
    "**Teste de White**\n",
    "\n",
    "Retorna alguns valores mas os valors que importam são dois primeiro, sendo o primeiro a estatistiva e o segundo o pvalor"
   ]
  },
  {
   "cell_type": "code",
   "execution_count": 57,
   "metadata": {},
   "outputs": [
    {
     "data": {
      "text/plain": [
       "(21.134482385631244,\n",
       " 2.5745744856118243e-05,\n",
       " 43.23809172549364,\n",
       " 1.1048694110790647e-08)"
      ]
     },
     "execution_count": 57,
     "metadata": {},
     "output_type": "execute_result"
    }
   ],
   "source": [
    "import statsmodels.stats.api as sms\n",
    "sms.het_white(estimativas.resid, estimativas.model.exog)"
   ]
  },
  {
   "cell_type": "markdown",
   "metadata": {},
   "source": [
    "Outra forma de fazer o Teste de White"
   ]
  },
  {
   "cell_type": "code",
   "execution_count": 58,
   "metadata": {},
   "outputs": [
    {
     "data": {
      "text/html": [
       "<div>\n",
       "<style scoped>\n",
       "    .dataframe tbody tr th:only-of-type {\n",
       "        vertical-align: middle;\n",
       "    }\n",
       "\n",
       "    .dataframe tbody tr th {\n",
       "        vertical-align: top;\n",
       "    }\n",
       "\n",
       "    .dataframe thead th {\n",
       "        text-align: right;\n",
       "    }\n",
       "</style>\n",
       "<table border=\"1\" class=\"dataframe\">\n",
       "  <thead>\n",
       "    <tr style=\"text-align: right;\">\n",
       "      <th></th>\n",
       "      <th>ntrab_X</th>\n",
       "      <th>nsuperv_Y</th>\n",
       "      <th>ntrab_X2</th>\n",
       "      <th>ei2</th>\n",
       "    </tr>\n",
       "  </thead>\n",
       "  <tbody>\n",
       "    <tr>\n",
       "      <th>0</th>\n",
       "      <td>294</td>\n",
       "      <td>30</td>\n",
       "      <td>86436</td>\n",
       "      <td>237.906565</td>\n",
       "    </tr>\n",
       "    <tr>\n",
       "      <th>1</th>\n",
       "      <td>247</td>\n",
       "      <td>32</td>\n",
       "      <td>61009</td>\n",
       "      <td>71.778998</td>\n",
       "    </tr>\n",
       "    <tr>\n",
       "      <th>2</th>\n",
       "      <td>267</td>\n",
       "      <td>37</td>\n",
       "      <td>71289</td>\n",
       "      <td>31.130492</td>\n",
       "    </tr>\n",
       "    <tr>\n",
       "      <th>3</th>\n",
       "      <td>358</td>\n",
       "      <td>44</td>\n",
       "      <td>128164</td>\n",
       "      <td>66.705281</td>\n",
       "    </tr>\n",
       "    <tr>\n",
       "      <th>4</th>\n",
       "      <td>423</td>\n",
       "      <td>47</td>\n",
       "      <td>178929</td>\n",
       "      <td>144.379478</td>\n",
       "    </tr>\n",
       "  </tbody>\n",
       "</table>\n",
       "</div>"
      ],
      "text/plain": [
       "   ntrab_X  nsuperv_Y  ntrab_X2         ei2\n",
       "0      294         30     86436  237.906565\n",
       "1      247         32     61009   71.778998\n",
       "2      267         37     71289   31.130492\n",
       "3      358         44    128164   66.705281\n",
       "4      423         47    178929  144.379478"
      ]
     },
     "execution_count": 58,
     "metadata": {},
     "output_type": "execute_result"
    }
   ],
   "source": [
    "data2 = data.copy()\n",
    "data2['ntrab_X2'] = data2['ntrab_X'] ** 2\n",
    "data2['ei2'] = estimativas.resid ** 2\n",
    "data2.head()"
   ]
  },
  {
   "cell_type": "code",
   "execution_count": 59,
   "metadata": {},
   "outputs": [
    {
     "data": {
      "text/plain": [
       "0.7827586068752312"
      ]
     },
     "execution_count": 59,
     "metadata": {},
     "output_type": "execute_result"
    }
   ],
   "source": [
    "modelo = smf.ols('ei2 ~ ntrab_X + ntrab_X2', data = data2)\n",
    "estimativas = modelo.fit()\n",
    "estimativas.rsquared"
   ]
  },
  {
   "cell_type": "code",
   "execution_count": 60,
   "metadata": {},
   "outputs": [
    {
     "name": "stdout",
     "output_type": "stream",
     "text": [
      "Estatistica observada: 21.134482385631244 e pvalor: 2.574574485614267e-05\n"
     ]
    }
   ],
   "source": [
    "n = data2.shape[0]\n",
    "wobs = estimativas.rsquared * n\n",
    "pvalor = 1 - stats.chi2.cdf(wobs, df = 2)\n",
    "print(f'Estatistica observada: {wobs} e pvalor: {pvalor}')"
   ]
  },
  {
   "cell_type": "markdown",
   "metadata": {},
   "source": [
    "<h3>Valores Influentes</h3>"
   ]
  },
  {
   "cell_type": "code",
   "execution_count": 61,
   "metadata": {},
   "outputs": [
    {
     "data": {
      "text/html": [
       "<div>\n",
       "<style scoped>\n",
       "    .dataframe tbody tr th:only-of-type {\n",
       "        vertical-align: middle;\n",
       "    }\n",
       "\n",
       "    .dataframe tbody tr th {\n",
       "        vertical-align: top;\n",
       "    }\n",
       "\n",
       "    .dataframe thead th {\n",
       "        text-align: right;\n",
       "    }\n",
       "</style>\n",
       "<table border=\"1\" class=\"dataframe\">\n",
       "  <thead>\n",
       "    <tr style=\"text-align: right;\">\n",
       "      <th></th>\n",
       "      <th>notav1</th>\n",
       "      <th>notav2_Y</th>\n",
       "      <th>tempototal</th>\n",
       "    </tr>\n",
       "  </thead>\n",
       "  <tbody>\n",
       "    <tr>\n",
       "      <th>0</th>\n",
       "      <td>5.0</td>\n",
       "      <td>5.4</td>\n",
       "      <td>53.0</td>\n",
       "    </tr>\n",
       "    <tr>\n",
       "      <th>1</th>\n",
       "      <td>3.0</td>\n",
       "      <td>2.4</td>\n",
       "      <td>31.0</td>\n",
       "    </tr>\n",
       "    <tr>\n",
       "      <th>2</th>\n",
       "      <td>4.0</td>\n",
       "      <td>4.9</td>\n",
       "      <td>42.0</td>\n",
       "    </tr>\n",
       "    <tr>\n",
       "      <th>3</th>\n",
       "      <td>4.0</td>\n",
       "      <td>3.2</td>\n",
       "      <td>37.0</td>\n",
       "    </tr>\n",
       "    <tr>\n",
       "      <th>4</th>\n",
       "      <td>7.0</td>\n",
       "      <td>8.2</td>\n",
       "      <td>61.0</td>\n",
       "    </tr>\n",
       "  </tbody>\n",
       "</table>\n",
       "</div>"
      ],
      "text/plain": [
       "   notav1  notav2_Y  tempototal\n",
       "0     5.0       5.4        53.0\n",
       "1     3.0       2.4        31.0\n",
       "2     4.0       4.9        42.0\n",
       "3     4.0       3.2        37.0\n",
       "4     7.0       8.2        61.0"
      ]
     },
     "execution_count": 61,
     "metadata": {},
     "output_type": "execute_result"
    }
   ],
   "source": [
    "data = np.array([[5,3,4,4,7,5,5,1,2,2,7,3.50,2,4,9,8,9.50,9,9,8],\n",
    "       [36,21,29,26,38,35,32,20,25,30,40,31,23,22,40,39,42,40,40,36],\n",
    "       [17,10,13,11,23,16,15,8,10,12,20,12,8,8,20,24,26,25,25,23],\n",
    "       [5.40,2.40,4.90,3.20,8.20,4.20,5.60,2.10,2.80,3.60,6.90,3.90,2.30,3.50,9.00,8.50,10.00,9.20,9.00,8.20]]).T\n",
    "data = pd.DataFrame(data = data, columns = ['notav1', 'tempoteo', 'tempoexs', 'notav2_Y'])\n",
    "data['tempototal'] = data['tempoteo'] + data['tempoexs']\n",
    "del data['tempoteo']\n",
    "del data['tempoexs']\n",
    "data.head()"
   ]
  },
  {
   "cell_type": "code",
   "execution_count": 62,
   "metadata": {},
   "outputs": [],
   "source": [
    "modelo = smf.ols('notav2_Y ~ notav1 + tempototal', data = data)\n",
    "estimativas = modelo.fit()\n",
    "influentes = estimativas.get_influence()"
   ]
  },
  {
   "cell_type": "code",
   "execution_count": 63,
   "metadata": {},
   "outputs": [],
   "source": [
    "(dist_cook, pvalor) = influentes.cooks_distance\n",
    "resid_est = influentes.resid_studentized"
   ]
  },
  {
   "cell_type": "code",
   "execution_count": 64,
   "metadata": {},
   "outputs": [
    {
     "data": {
      "text/plain": [
       "Text(0.5, 1.0, 'Grafico de Dispressão entre x e residuos')"
      ]
     },
     "execution_count": 64,
     "metadata": {},
     "output_type": "execute_result"
    },
    {
     "data": {
      "image/png": "[encoded data removed]",
      "text/plain": [
       "<Figure size 1080x576 with 1 Axes>"
      ]
     },
     "metadata": {
      "needs_background": "light"
     },
     "output_type": "display_data"
    }
   ],
   "source": [
    "fig, axes = plt.subplots(figsize=(15,8))\n",
    "sns.scatterplot(x = dist_cook, y = resid_est, s = 100)\n",
    "axes.set_xlabel('Distancia de Cook')\n",
    "axes.set_ylabel('Residuos')\n",
    "axes.set_title('Grafico de Dispressão entre x e residuos')"
   ]
  },
  {
   "cell_type": "code",
   "execution_count": 65,
   "metadata": {},
   "outputs": [
    {
     "data": {
      "text/html": [
       "<div>\n",
       "<style scoped>\n",
       "    .dataframe tbody tr th:only-of-type {\n",
       "        vertical-align: middle;\n",
       "    }\n",
       "\n",
       "    .dataframe tbody tr th {\n",
       "        vertical-align: top;\n",
       "    }\n",
       "\n",
       "    .dataframe thead th {\n",
       "        text-align: right;\n",
       "    }\n",
       "</style>\n",
       "<table border=\"1\" class=\"dataframe\">\n",
       "  <thead>\n",
       "    <tr style=\"text-align: right;\">\n",
       "      <th></th>\n",
       "      <th>dfb_Intercept</th>\n",
       "      <th>dfb_notav1</th>\n",
       "      <th>dfb_tempototal</th>\n",
       "      <th>cooks_d</th>\n",
       "      <th>standard_resid</th>\n",
       "      <th>hat_diag</th>\n",
       "      <th>dffits_internal</th>\n",
       "      <th>student_resid</th>\n",
       "      <th>dffits</th>\n",
       "    </tr>\n",
       "  </thead>\n",
       "  <tbody>\n",
       "    <tr>\n",
       "      <th>0</th>\n",
       "      <td>0.167536</td>\n",
       "      <td>0.220939</td>\n",
       "      <td>-0.227762</td>\n",
       "      <td>0.028842</td>\n",
       "      <td>-0.753189</td>\n",
       "      <td>0.132339</td>\n",
       "      <td>-0.294152</td>\n",
       "      <td>-0.743206</td>\n",
       "      <td>-0.290254</td>\n",
       "    </tr>\n",
       "    <tr>\n",
       "      <th>1</th>\n",
       "      <td>-0.420507</td>\n",
       "      <td>-0.236647</td>\n",
       "      <td>0.332351</td>\n",
       "      <td>0.069544</td>\n",
       "      <td>-0.945779</td>\n",
       "      <td>0.189128</td>\n",
       "      <td>-0.456764</td>\n",
       "      <td>-0.942677</td>\n",
       "      <td>-0.455266</td>\n",
       "    </tr>\n",
       "    <tr>\n",
       "      <th>2</th>\n",
       "      <td>0.107326</td>\n",
       "      <td>-0.028470</td>\n",
       "      <td>-0.017923</td>\n",
       "      <td>0.026021</td>\n",
       "      <td>1.078362</td>\n",
       "      <td>0.062908</td>\n",
       "      <td>0.279400</td>\n",
       "      <td>1.083892</td>\n",
       "      <td>0.280833</td>\n",
       "    </tr>\n",
       "    <tr>\n",
       "      <th>3</th>\n",
       "      <td>-0.492494</td>\n",
       "      <td>-0.307609</td>\n",
       "      <td>0.397996</td>\n",
       "      <td>0.098219</td>\n",
       "      <td>-1.430159</td>\n",
       "      <td>0.125921</td>\n",
       "      <td>-0.542824</td>\n",
       "      <td>-1.479300</td>\n",
       "      <td>-0.561476</td>\n",
       "    </tr>\n",
       "    <tr>\n",
       "      <th>4</th>\n",
       "      <td>-0.272260</td>\n",
       "      <td>-0.204755</td>\n",
       "      <td>0.285231</td>\n",
       "      <td>0.061457</td>\n",
       "      <td>1.155651</td>\n",
       "      <td>0.121305</td>\n",
       "      <td>0.429385</td>\n",
       "      <td>1.167962</td>\n",
       "      <td>0.433959</td>\n",
       "    </tr>\n",
       "  </tbody>\n",
       "</table>\n",
       "</div>"
      ],
      "text/plain": [
       "   dfb_Intercept  dfb_notav1  dfb_tempototal   cooks_d  standard_resid  \\\n",
       "0       0.167536    0.220939       -0.227762  0.028842       -0.753189   \n",
       "1      -0.420507   -0.236647        0.332351  0.069544       -0.945779   \n",
       "2       0.107326   -0.028470       -0.017923  0.026021        1.078362   \n",
       "3      -0.492494   -0.307609        0.397996  0.098219       -1.430159   \n",
       "4      -0.272260   -0.204755        0.285231  0.061457        1.155651   \n",
       "\n",
       "   hat_diag  dffits_internal  student_resid    dffits  \n",
       "0  0.132339        -0.294152      -0.743206 -0.290254  \n",
       "1  0.189128        -0.456764      -0.942677 -0.455266  \n",
       "2  0.062908         0.279400       1.083892  0.280833  \n",
       "3  0.125921        -0.542824      -1.479300 -0.561476  \n",
       "4  0.121305         0.429385       1.167962  0.433959  "
      ]
     },
     "execution_count": 65,
     "metadata": {},
     "output_type": "execute_result"
    }
   ],
   "source": [
    "influentes.summary_frame().head() # Obtendo muitas diversas medidas"
   ]
  },
  {
   "cell_type": "code",
   "execution_count": 66,
   "metadata": {},
   "outputs": [
    {
     "data": {
      "text/plain": [
       "pandas.core.frame.DataFrame"
      ]
     },
     "execution_count": 66,
     "metadata": {},
     "output_type": "execute_result"
    }
   ],
   "source": [
    "type(influentes.summary_frame())"
   ]
  },
  {
   "cell_type": "code",
   "execution_count": 67,
   "metadata": {},
   "outputs": [
    {
     "data": {
      "text/plain": [
       "Text(0, 0.5, 'Hii centrada')"
      ]
     },
     "execution_count": 67,
     "metadata": {},
     "output_type": "execute_result"
    },
    {
     "data": {
      "image/png": "[encoded data removed]",
      "text/plain": [
       "<Figure size 1080x576 with 1 Axes>"
      ]
     },
     "metadata": {
      "needs_background": "light"
     },
     "output_type": "display_data"
    }
   ],
   "source": [
    "fig, axes = plt.subplots(figsize=(15,8))\n",
    "n = data.shape[0]\n",
    "sns.scatterplot(y = influentes.summary_frame()['hat_diag'] - 1/n,\n",
    "                x = list(range(0, len(influentes.summary_frame()['hat_diag']))) , s = 100)\n",
    "axes.set_ylabel('Hii centrada')"
   ]
  },
  {
   "cell_type": "code",
   "execution_count": 68,
   "metadata": {},
   "outputs": [
    {
     "data": {
      "text/html": [
       "<table class=\"simpletable\">\n",
       "<tr>\n",
       "   <th>obs</th> <th>endog</th>       <th>fitted</th>               <th>Cook's</th>              <th>student.</th>            <th>hat diag</th>              <th>dffits </th>            <th>ext.stud.</th>             <th>dffits</th>       \n",
       "</tr>\n",
       "<tr>\n",
       "    <th></th>     <th></th>           <th>value</th>                  <th>d</th>                <th>residual</th>                <th></th>                 <th>internal</th>            <th>residual</th>                 <th></th>          \n",
       "</tr>\n",
       "<tr>\n",
       "   <td>0.0</td>  <td>5.4</td>   <td>5.785376445701903</td>  <td>0.028841858318811916</td>  <td>-0.7531887873142916</td> <td>0.1323387435597363</td>   <td>-0.2941522989140757</td> <td>-0.7432061352594056</td>  <td>-0.2902536481366595</td>\n",
       "</tr>\n",
       "<tr>\n",
       "   <td>1.0</td>  <td>2.4</td>  <td>2.8678129076009933</td>   <td>0.06954447793938148</td>  <td>-0.9457794805221272</td> <td>0.18912821377807398</td> <td>-0.45676408989558764</td> <td>-0.9426766652504037</td> <td>-0.45526558562171554</td>\n",
       "</tr>\n",
       "<tr>\n",
       "   <td>2.0</td>  <td>4.9</td>   <td>4.326594676651448</td>  <td>0.026021469130258008</td>  <td>1.0783615797352346</td>  <td>0.06290808237530855</td>  <td>0.27940008480810097</td> <td>1.0838921484361022</td>   <td>0.2808330377184215</td> \n",
       "</tr>\n",
       "<tr>\n",
       "   <td>3.0</td>  <td>3.2</td>  <td>3.9344560833565243</td>   <td>0.09821932300380537</td>  <td>-1.4301592271292924</td> <td>0.1259214887538221</td>   <td>-0.542824068194674</td>  <td>-1.4793002675067024</td>  <td>-0.5614757951821144</td>\n",
       "</tr>\n",
       "<tr>\n",
       "   <td>4.0</td>  <td>8.2</td>   <td>7.604951922577026</td>   <td>0.0614571719501357</td>   <td>1.1556511279075634</td>  <td>0.12130494707035633</td>  <td>0.4293850438131341</td>  <td>1.1679624478913777</td>   <td>0.4339593452982363</td> \n",
       "</tr>\n",
       "<tr>\n",
       "   <td>5.0</td>  <td>4.2</td>   <td>5.628521008383934</td>   <td>0.23667430742034504</td>  <td>-2.7223668888860106</td> <td>0.0874272022440371</td>   <td>-0.8426285790673345</td> <td>-3.5166274376552207</td>  <td>-1.0884685649821293</td>\n",
       "</tr>\n",
       "<tr>\n",
       "   <td>6.0</td>  <td>5.6</td>  <td>5.3148101337479945</td>  <td>0.005072653134227361</td>  <td>0.5329204269119113</td>  <td>0.05085840025354781</td>  <td>0.12336109355336505</td> <td>0.5213822375458202</td>   <td>0.1206902189050152</td> \n",
       "</tr>\n",
       "<tr>\n",
       "   <td>7.0</td>  <td>2.1</td>  <td>1.4403760240207948</td>   <td>0.1307511274586372</td>    <td>1.327746658812637</td>  <td>0.18200623163809848</td>  <td>0.6263013510890038</td>  <td>1.3605803960138367</td>   <td>0.6417891053483911</td> \n",
       "</tr>\n",
       "<tr>\n",
       "   <td>8.0</td>  <td>2.8</td>   <td>2.58544691843531</td>   <td>0.009228116445266566</td>  <td>0.4201148173930239</td>  <td>0.13558742104069393</td>  <td>0.16638614526396028</td> <td>0.4097035892984459</td>   <td>0.16226278650963172</td>\n",
       "</tr>\n",
       "<tr>\n",
       "   <td>9.0</td>  <td>3.6</td>   <td>3.134440949048204</td>   <td>0.14852777961075037</td>  <td>1.0145539530177632</td>  <td>0.30211025401376956</td>  <td>0.6675202909517065</td>  <td>1.0154848088419504</td>   <td>0.6681327425110812</td> \n",
       "</tr>\n",
       "<tr>\n",
       "  <td>10.0</td>  <td>6.9</td>   <td>7.526524203918042</td>  <td>0.054823192389052026</td>  <td>-1.2036024054191992</td> <td>0.10195690842665217</td>  <td>-0.4055484892921635</td> <td>-1.2208410188515553</td>  <td>-0.411356963588581</td> \n",
       "</tr>\n",
       "<tr>\n",
       "  <td>11.0</td>  <td>3.9</td>   <td>4.106983963409622</td>  <td>0.0053648083771135205</td> <td>-0.3957087434213262</td> <td>0.09320384835038009</td>  <td>-0.126863805442453</td>  <td>-0.3856741831414749</td> <td>-0.12364673600891714</td>\n",
       "</tr>\n",
       "<tr>\n",
       "  <td>12.0</td>  <td>2.3</td>   <td>2.271736043799371</td> <td>0.00016400766158921994</td> <td>0.0554229087462133</td>  <td>0.13806436432631725</td> <td>0.022181591123444228</td> <td>0.05377297754618049</td> <td>0.021521248675007834</td>\n",
       "</tr>\n",
       "<tr>\n",
       "  <td>13.0</td>  <td>3.5</td>  <td>3.3854620527436303</td>   <td>0.01615347076795703</td>  <td>0.26931437629307386</td> <td>0.4005302399269225</td>   <td>0.22013725787306224</td> <td>0.26183247144545396</td>  <td>0.21402155755474775</td>\n",
       "</tr>\n",
       "<tr>\n",
       "  <td>14.0</td>  <td>9.0</td>   <td>8.718677931521286</td>  <td>0.028521191389247604</td>  <td>0.5746783077451458</td>  <td>0.2057713317690687</td>   <td>0.29251251967692393</td> <td>0.5630154586698988</td>   <td>0.28657610390546745</td>\n",
       "</tr>\n",
       "<tr>\n",
       "  <td>15.0</td>  <td>8.5</td>   <td>8.357884223696617</td>  <td>0.003101402126018439</td>  <td>0.2742588336444711</td>  <td>0.1100801425166622</td>   <td>0.09645831419870098</td> <td>0.26666073581071875</td>  <td>0.09378602212182795</td>\n",
       "</tr>\n",
       "<tr>\n",
       "  <td>16.0</td> <td>10.0</td>   <td>9.644138112693975</td>   <td>0.03447995262243202</td>  <td>0.7110430301685012</td>  <td>0.16984583415647764</td>  <td>0.32162067388042087</td> <td>0.7003052456336257</td>   <td>0.3167637336509793</td> \n",
       "</tr>\n",
       "<tr>\n",
       "  <td>17.0</td>  <td>9.2</td>   <td>9.110816524816212</td>  <td>0.0017067341992146802</td> <td>0.17535676781399853</td> <td>0.14274252151440095</td>  <td>0.07155559096006434</td> <td>0.17027512165000208</td>  <td>0.06948198867571792</td>\n",
       "</tr>\n",
       "<tr>\n",
       "  <td>18.0</td>  <td>9.0</td>   <td>9.110816524816212</td>  <td>0.002635154975369236</td>  <td>-0.2178926933728994</td> <td>0.14274252151440095</td> <td>-0.08891268146956152</td> <td>-0.2116827604583249</td> <td>-0.08637867365757869</td>\n",
       "</tr>\n",
       "<tr>\n",
       "  <td>19.0</td>  <td>8.2</td>   <td>8.044173349060678</td>  <td>0.003535863879930409</td>  <td>0.2999427574983149</td>  <td>0.10547130277127242</td>  <td>0.10299316307304687</td> <td>0.2917602526161258</td>   <td>0.10018348676445311</td>\n",
       "</tr>\n",
       "</table>"
      ],
      "text/plain": [
       "<class 'statsmodels.iolib.table.SimpleTable'>"
      ]
     },
     "execution_count": 68,
     "metadata": {},
     "output_type": "execute_result"
    }
   ],
   "source": [
    "influentes.summary_table() # Obtendo muitas diversas medidas"
   ]
  }
 ],
 "metadata": {
  "kernelspec": {
   "display_name": "Python 3",
   "language": "python",
   "name": "python3"
  },
  "language_info": {
   "codemirror_mode": {
    "name": "ipython",
    "version": 3
   },
   "file_extension": ".py",
   "mimetype": "text/x-python",
   "name": "python",
   "nbconvert_exporter": "python",
   "pygments_lexer": "ipython3",
   "version": "3.7.3"
  }
 },
 "nbformat": 4,
 "nbformat_minor": 2
}
