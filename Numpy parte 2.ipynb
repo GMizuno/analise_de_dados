{
 "cells": [
  {
   "cell_type": "markdown",
   "metadata": {},
   "source": [
    "<h2>Operações com Array</h2>"
   ]
  },
  {
   "cell_type": "code",
   "execution_count": 1,
   "metadata": {},
   "outputs": [],
   "source": [
    "import numpy as np\n",
    "import math"
   ]
  },
  {
   "cell_type": "markdown",
   "metadata": {},
   "source": [
    "<h3>Operações com vetores</h3>"
   ]
  },
  {
   "cell_type": "code",
   "execution_count": 2,
   "metadata": {},
   "outputs": [],
   "source": [
    "array1 = np.arange(0, 16)\n",
    "array2 = np.arange(30, 46)"
   ]
  },
  {
   "cell_type": "code",
   "execution_count": 3,
   "metadata": {},
   "outputs": [
    {
     "name": "stdout",
     "output_type": "stream",
     "text": [
      "Soma:\n",
      "[30 32 34 36 38 40 42 44 46 48 50 52 54 56 58 60]\n",
      "\n",
      "\n",
      "Diferença:\n",
      "[-30 -30 -30 -30 -30 -30 -30 -30 -30 -30 -30 -30 -30 -30 -30 -30]\n",
      "\n",
      "\n",
      "Multiplicação entrada por entrada\n",
      "[  0  31  64  99 136 175 216 259 304 351 400 451 504 559 616 675]\n",
      "\n",
      "\n",
      "Divisão entrada por entrada:\n",
      "[0.         0.03225806 0.0625     0.09090909 0.11764706 0.14285714\n",
      " 0.16666667 0.18918919 0.21052632 0.23076923 0.25       0.26829268\n",
      " 0.28571429 0.30232558 0.31818182 0.33333333]\n",
      "\n",
      "\n",
      "Divisão entrada por entrada:\n",
      "[        inf 31.         16.         11.          8.5         7.\n",
      "  6.          5.28571429  4.75        4.33333333  4.          3.72727273\n",
      "  3.5         3.30769231  3.14285714  3.        ]\n",
      "\n",
      "\n",
      "Divisão entrada por entrada:\n",
      "[nan  1.  1.  1.  1.  1.  1.  1.  1.  1.  1.  1.  1.  1.  1.  1.]\n",
      "\n"
     ]
    },
    {
     "name": "stderr",
     "output_type": "stream",
     "text": [
      "/Users/gabrielperez/anaconda3/lib/python3.7/site-packages/ipykernel_launcher.py:5: RuntimeWarning: divide by zero encountered in true_divide\n",
      "  \"\"\"\n",
      "/Users/gabrielperez/anaconda3/lib/python3.7/site-packages/ipykernel_launcher.py:6: RuntimeWarning: invalid value encountered in true_divide\n",
      "  \n"
     ]
    }
   ],
   "source": [
    "print(f'Soma:\\n{array1 + array2}\\n')\n",
    "print(f'\\nDiferença:\\n{array1 - array2}\\n')\n",
    "print(f'\\nMultiplicação entrada por entrada\\n{array1 * array2}\\n')\n",
    "print(f'\\nDivisão entrada por entrada:\\n{array1 / array2}\\n')\n",
    "print(f'\\nDivisão entrada por entrada:\\n{array2 / array1}\\n')\n",
    "print(f'\\nDivisão entrada por entrada:\\n{array1 / array1}\\n')"
   ]
  },
  {
   "cell_type": "markdown",
   "metadata": {},
   "source": [
    "Note que a 'primeira divisão' é 0/0 o que não existe na Matematica, mas o Numpy retonar nan e um Warning.\n",
    "\n",
    "\n",
    "Note que a 'primeira divisão' é 0/0 o que não existe na Matematica, mas o Numpy retonar nan e um Warning."
   ]
  },
  {
   "cell_type": "code",
   "execution_count": 4,
   "metadata": {},
   "outputs": [
    {
     "name": "stdout",
     "output_type": "stream",
     "text": [
      "\n",
      "Vetor:\n",
      "[ 0  1  2  3  4  5  6  7  8  9 10 11 12 13 14 15]\n",
      "\n",
      "\n",
      "Somando 2 em cada entrada:\n",
      "[ 2  3  4  5  6  7  8  9 10 11 12 13 14 15 16 17]\n",
      "\n",
      "\n",
      "Multiplicando por 2 cada entrada:\n",
      "[ 0  2  4  6  8 10 12 14 16 18 20 22 24 26 28 30]\n",
      "\n",
      "\n",
      "Dividindo por 2 cada entrada:\n",
      "[0.  0.5 1.  1.5 2.  2.5 3.  3.5 4.  4.5 5.  5.5 6.  6.5 7.  7.5]\n",
      "\n",
      "\n",
      "Elevando por 2 cada entrada:\n",
      "[  0   1   4   9  16  25  36  49  64  81 100 121 144 169 196 225]\n",
      "\n",
      "\n",
      "Produto interno:\n",
      "4840\n",
      "\n",
      "\n",
      "Tirando raiz em cada entrada:\n",
      "[0.         1.         1.41421356 1.73205081 2.         2.23606798\n",
      " 2.44948974 2.64575131 2.82842712 3.         3.16227766 3.31662479\n",
      " 3.46410162 3.60555128 3.74165739 3.87298335]\n",
      "\n",
      "\n",
      "Produto interno:\n",
      "[1.00000000e+00 2.71828183e+00 7.38905610e+00 2.00855369e+01\n",
      " 5.45981500e+01 1.48413159e+02 4.03428793e+02 1.09663316e+03\n",
      " 2.98095799e+03 8.10308393e+03 2.20264658e+04 5.98741417e+04\n",
      " 1.62754791e+05 4.42413392e+05 1.20260428e+06 3.26901737e+06]\n",
      "\n",
      "\n",
      "Tirando raiz em cada entrada:\n",
      "[ 0.          0.84147098  0.90929743  0.14112001 -0.7568025  -0.95892427\n",
      " -0.2794155   0.6569866   0.98935825  0.41211849 -0.54402111 -0.99999021\n",
      " -0.53657292  0.42016704  0.99060736  0.65028784]\n",
      "\n",
      "\n",
      "Produto interno:\n",
      "4840\n",
      "\n",
      "\n",
      "Tirando raiz em cada entrada:\n",
      "[0.         1.         1.41421356 1.73205081 2.         2.23606798\n",
      " 2.44948974 2.64575131 2.82842712 3.         3.16227766 3.31662479\n",
      " 3.46410162 3.60555128 3.74165739 3.87298335]\n",
      "\n"
     ]
    }
   ],
   "source": [
    "print(f'\\nVetor:\\n{array1}\\n')\n",
    "print(f'\\nSomando 2 em cada entrada:\\n{array1 + 2}\\n')\n",
    "print(f'\\nMultiplicando por 2 cada entrada:\\n{array1 * 2}\\n')\n",
    "print(f'\\nDividindo por 2 cada entrada:\\n{array1 / 2}\\n')\n",
    "print(f'\\nElevando por 2 cada entrada:\\n{array1 ** 2}\\n')\n",
    "print(f'\\nProduto interno:\\n{np.inner(array1, array2)}\\n')\n",
    "print(f'\\nTirando raiz em cada entrada:\\n{np.sqrt(array1)}\\n')\n",
    "print(f'\\nProduto interno:\\n{np.exp(array1)}\\n')\n",
    "print(f'\\nTirando raiz em cada entrada:\\n{np.sin(array1)}\\n')\n",
    "print(f'\\nProduto interno:\\n{np.inner(array1, array2)}\\n')\n",
    "print(f'\\nTirando raiz em cada entrada:\\n{np.sqrt(array1)}\\n')"
   ]
  },
  {
   "cell_type": "markdown",
   "metadata": {},
   "source": [
    "reshape 'remolda' seu array/matriz, transformando, por exemplo, uma matriz 1x5 em uma 5x5."
   ]
  },
  {
   "cell_type": "code",
   "execution_count": 5,
   "metadata": {},
   "outputs": [
    {
     "data": {
      "text/plain": [
       "array([[ 1,  2,  3],\n",
       "       [ 4,  5,  6],\n",
       "       [ 7,  8,  9],\n",
       "       [10, 11, 12],\n",
       "       [13, 14, 15]])"
      ]
     },
     "execution_count": 5,
     "metadata": {},
     "output_type": "execute_result"
    }
   ],
   "source": [
    "np.arange(1, 16).reshape((5,3))"
   ]
  },
  {
   "cell_type": "code",
   "execution_count": 6,
   "metadata": {},
   "outputs": [
    {
     "data": {
      "text/plain": [
       "array([[ 1,  2,  3,  4,  5],\n",
       "       [ 6,  7,  8,  9, 10],\n",
       "       [11, 12, 13, 14, 15]])"
      ]
     },
     "execution_count": 6,
     "metadata": {},
     "output_type": "execute_result"
    }
   ],
   "source": [
    "np.arange(1, 16).reshape((3,5))"
   ]
  },
  {
   "cell_type": "code",
   "execution_count": 7,
   "metadata": {},
   "outputs": [
    {
     "data": {
      "text/plain": [
       "array([2.00000000e+00, 6.71828183e+00, 2.03890561e+01, 4.80855369e+01,\n",
       "       1.03598150e+02, 2.24413159e+02, 5.12428793e+02, 1.24463316e+03,\n",
       "       3.17395799e+03, 8.34708393e+03, 2.23274658e+04, 6.02381417e+04,\n",
       "       1.63187791e+05, 4.42921392e+05, 1.20319328e+06, 3.26969337e+06])"
      ]
     },
     "execution_count": 7,
     "metadata": {},
     "output_type": "execute_result"
    }
   ],
   "source": [
    "funcao = lambda x: 3*x**2 + np.exp(x) + 1\n",
    "funcao(array1)"
   ]
  },
  {
   "cell_type": "markdown",
   "metadata": {},
   "source": [
    "Uma outra forma de criar arrays de forma \"mais rapida\""
   ]
  },
  {
   "cell_type": "code",
   "execution_count": 12,
   "metadata": {},
   "outputs": [
    {
     "name": "stdout",
     "output_type": "stream",
     "text": [
      "Preenchendo por coluna:\n",
      "[[  1.           3.14159265]\n",
      " [  2.          10.        ]\n",
      " [  3.          33.        ]\n",
      " [  4.          42.        ]\n",
      " [  5.         100.        ]]\n",
      "\n",
      "\n",
      "\n",
      "Preenchendo por linha:\n",
      "[  1.           2.           3.           4.           5.\n",
      "   3.14159265  10.          33.          42.         100.        ]\n"
     ]
    }
   ],
   "source": [
    "x = [1, 2, 3, 4, 5]\n",
    "y = [math.pi, 10, 33, 42, 100]\n",
    "print(f'Preenchendo por coluna:\\n{np.c_[x, y]}')\n",
    "print('\\n\\n')\n",
    "print(f'Preenchendo por linha:\\n{np.r_[x, y]}')"
   ]
  },
  {
   "cell_type": "markdown",
   "metadata": {},
   "source": [
    "<h3>Operações com matrizes matrizes</h3>"
   ]
  },
  {
   "cell_type": "code",
   "execution_count": null,
   "metadata": {},
   "outputs": [],
   "source": [
    "matrix1 = np.array([[1, 2, 3], [7, 8, 9], [10, 11, 12]])\n",
    "matrix2 = np.array([[10, 20, 30], [70, 80, 90], [100, 110, 120]])"
   ]
  },
  {
   "cell_type": "code",
   "execution_count": null,
   "metadata": {},
   "outputs": [],
   "source": [
    "np.dot(matrix1, matrix2) "
   ]
  },
  {
   "cell_type": "code",
   "execution_count": null,
   "metadata": {},
   "outputs": [],
   "source": [
    "matrix1*2"
   ]
  },
  {
   "cell_type": "code",
   "execution_count": null,
   "metadata": {},
   "outputs": [],
   "source": [
    "matrix1**2"
   ]
  },
  {
   "cell_type": "code",
   "execution_count": null,
   "metadata": {},
   "outputs": [],
   "source": [
    "5*matrix1 + 2 "
   ]
  },
  {
   "cell_type": "code",
   "execution_count": null,
   "metadata": {},
   "outputs": [],
   "source": [
    "print(f'Matrix:\\n{matrix1}\\n')\n",
    "print(f'\\nMaximo:\\n{matrix1.max()}\\n')\n",
    "print(f'\\nPosição do maximo:\\n{np.argwhere(matrix1.max() == matrix1)}\\n')\n",
    "print(f'\\nMinimo:\\n{matrix1.min()}\\n')\n",
    "print(f'\\nPosição do minimo:\\n{np.argwhere(matrix1.min() == matrix1)}\\n')\n",
    "print(f'\\nSoma:\\n{matrix1.sum()}\\n')\n",
    "print(f'\\nMedia:\\n{matrix1.mean()}\\n')\n",
    "print(f'\\nVariancia:\\n{matrix1.var()}\\n')\n",
    "print(f'\\nMediana:\\n{np.median(matrix1)}\\n')\n",
    "print(f'\\nQuantil:\\n{np.quantile(matrix1, .1)}\\n')\n",
    "print(f'\\nTraço:\\n{np.trace(matrix1)}\\n')"
   ]
  },
  {
   "cell_type": "markdown",
   "metadata": {},
   "source": [
    "<b>Poderiamos usar funções lambdas e coisas do tipo.</b>"
   ]
  },
  {
   "cell_type": "code",
   "execution_count": null,
   "metadata": {},
   "outputs": [],
   "source": [
    "np.diagonal(matrix1)"
   ]
  },
  {
   "cell_type": "markdown",
   "metadata": {},
   "source": [
    "<b>Aplicando uma função numa matrix por linha</b>"
   ]
  },
  {
   "cell_type": "code",
   "execution_count": null,
   "metadata": {},
   "outputs": [],
   "source": [
    "[x.mean() for x in matrix1]"
   ]
  },
  {
   "cell_type": "code",
   "execution_count": null,
   "metadata": {},
   "outputs": [],
   "source": [
    "print(f'Matrix:\\n{matrix1}\\n')\n",
    "print(f'\\nMaximo:\\n{np.mean(matrix1, axis =  1)}\\n')\n",
    "print(f'\\nPosição do maximo:\\n{np.argwhere(matrix1.max() == matrix1)}\\n')\n",
    "print(f'\\nMinimo:\\n{np.max(matrix1, axis =  1)}\\n')\n",
    "print(f'\\nPosição do minimo:\\n{np.argwhere(matrix1.min() == matrix1)}\\n')\n",
    "print(f'\\nSoma:\\n{np.sum(matrix1, axis =  1)}\\n')\n",
    "print(f'\\nMedia:\\n{np.mean(matrix1, axis =  1)}\\n')\n",
    "print(f'\\nVariancia:\\n{np.var(matrix1, axis =  1)}\\n')\n",
    "print(f'\\nMediana:\\n{np.median(matrix1, axis =  1)}\\n')\n",
    "print(f'\\nQuantil:\\n{np.quantile(matrix1, .1, axis =  1)}\\n')\n",
    "print(f'\\nTraço:\\n{np.trace(matrix1)}\\n')"
   ]
  },
  {
   "cell_type": "markdown",
   "metadata": {},
   "source": [
    "Note que para fazer operações por linha temos que usar funções do Numpy e não os atributos 'built-in' (como foi feito no inicio deste arquivo)"
   ]
  },
  {
   "cell_type": "code",
   "execution_count": null,
   "metadata": {},
   "outputs": [],
   "source": [
    "[5*sum(x) + 2 for x in matrix1]"
   ]
  },
  {
   "cell_type": "code",
   "execution_count": null,
   "metadata": {},
   "outputs": [],
   "source": [
    "funcao = lambda x: 5*sum(x) + 2\n",
    "[funcao(x) for x in matrix1]"
   ]
  },
  {
   "cell_type": "markdown",
   "metadata": {},
   "source": [
    "<b>Aplicando uma função numa matrix por coluna</b>"
   ]
  },
  {
   "cell_type": "code",
   "execution_count": null,
   "metadata": {},
   "outputs": [],
   "source": [
    "matrix1.T\n",
    "[x.mean() for x in matrix1.T]"
   ]
  },
  {
   "cell_type": "code",
   "execution_count": null,
   "metadata": {},
   "outputs": [],
   "source": [
    "print(f'Matrix:\\n{matrix1}\\n')\n",
    "print(f'\\nMaximo:\\n{np.mean(matrix1, axis =  0)}\\n')\n",
    "print(f'\\nPosição do maximo:\\n{np.argwhere(matrix1.max() == matrix1)}\\n')\n",
    "print(f'\\nMinimo:\\n{np.max(matrix1, axis =  0)}\\n')\n",
    "print(f'\\nPosição do minimo:\\n{np.argwhere(matrix1.min() == matrix1)}\\n')\n",
    "print(f'\\nSoma:\\n{np.sum(matrix1, axis =  0)}\\n')\n",
    "print(f'\\nMedia:\\n{np.mean(matrix1, axis =  0)}\\n')\n",
    "print(f'\\nVariancia:\\n{np.var(matrix1, axis =  0)}\\n')\n",
    "print(f'\\nMediana:\\n{np.median(matrix1, axis =  0)}\\n')\n",
    "print(f'\\nQuantil:\\n{np.quantile(matrix1, .1, axis =  0)}\\n')\n",
    "print(f'\\nTraço:\\n{np.trace(matrix1)}\\n')"
   ]
  },
  {
   "cell_type": "markdown",
   "metadata": {},
   "source": [
    "Note que para fazer operações por coluna temos que usar funções do Numpy e não os atributos 'built-in' (como foi feito no inicio deste arquivo)"
   ]
  }
 ],
 "metadata": {
  "kernelspec": {
   "display_name": "Python 3",
   "language": "python",
   "name": "python3"
  },
  "language_info": {
   "codemirror_mode": {
    "name": "ipython",
    "version": 3
   },
   "file_extension": ".py",
   "mimetype": "text/x-python",
   "name": "python",
   "nbconvert_exporter": "python",
   "pygments_lexer": "ipython3",
   "version": "3.7.4"
  }
 },
 "nbformat": 4,
 "nbformat_minor": 2
}
